{
 "cells": [
  {
   "cell_type": "markdown",
   "metadata": {},
   "source": [
    "# Import Crime Data"
   ]
  },
  {
   "cell_type": "code",
   "execution_count": 1,
   "metadata": {},
   "outputs": [],
   "source": [
    "library(plyr)\n",
    "library(tidyr)"
   ]
  },
  {
   "cell_type": "code",
   "execution_count": 2,
   "metadata": {},
   "outputs": [
    {
     "data": {
      "text/html": [
       "<table>\n",
       "<thead><tr><th scope=col>Year.ending.March</th><th scope=col>Postcode</th><th scope=col>Suburb.Town.Name</th><th scope=col>Offence.Division</th><th scope=col>Offence.Subdivision</th><th scope=col>Offence.Subgroup</th><th scope=col>Incidents.Recorded</th></tr></thead>\n",
       "<tbody>\n",
       "\t<tr><td>2018                                                              </td><td>3000                                                              </td><td>MELBOURNE                                                         </td><td>A Crimes against the person                                       </td><td>A20 Assault and related offences                                  </td><td>A232 Non-FV Common assault                                        </td><td>646                                                               </td></tr>\n",
       "\t<tr><td>2018                                                              </td><td>3000                                                              </td><td>MELBOURNE                                                         </td><td>A Crimes against the person                                       </td><td>A20 Assault and related offences                                  </td><td>A231 FV Common assault                                            </td><td>129                                                               </td></tr>\n",
       "\t<tr><td>2018                                                              </td><td>3000                                                              </td><td>MELBOURNE                                                         </td><td>A Crimes against the person                                       </td><td>A20 Assault and related offences                                  </td><td>A212 Non-FV Serious assault                                       </td><td>601                                                               </td></tr>\n",
       "\t<tr><td>2018                                                              </td><td>3000                                                              </td><td>MELBOURNE                                                         </td><td>A Crimes against the person                                       </td><td>A20 Assault and related offences                                  </td><td>A211 FV Serious assault                                           </td><td>108                                                               </td></tr>\n",
       "\t<tr><td>2018                                                              </td><td>3000                                                              </td><td>MELBOURNE                                                         </td><td>A Crimes against the person                                       </td><td>A20 Assault and related offences                                  </td><td>A22 Assault police, emergency services or other authorised officer</td><td>142                                                               </td></tr>\n",
       "</tbody>\n",
       "</table>\n"
      ],
      "text/latex": [
       "\\begin{tabular}{r|lllllll}\n",
       " Year.ending.March & Postcode & Suburb.Town.Name & Offence.Division & Offence.Subdivision & Offence.Subgroup & Incidents.Recorded\\\\\n",
       "\\hline\n",
       "\t 2018                                                               & 3000                                                               & MELBOURNE                                                          & A Crimes against the person                                        & A20 Assault and related offences                                   & A232 Non-FV Common assault                                         & 646                                                               \\\\\n",
       "\t 2018                                                               & 3000                                                               & MELBOURNE                                                          & A Crimes against the person                                        & A20 Assault and related offences                                   & A231 FV Common assault                                             & 129                                                               \\\\\n",
       "\t 2018                                                               & 3000                                                               & MELBOURNE                                                          & A Crimes against the person                                        & A20 Assault and related offences                                   & A212 Non-FV Serious assault                                        & 601                                                               \\\\\n",
       "\t 2018                                                               & 3000                                                               & MELBOURNE                                                          & A Crimes against the person                                        & A20 Assault and related offences                                   & A211 FV Serious assault                                            & 108                                                               \\\\\n",
       "\t 2018                                                               & 3000                                                               & MELBOURNE                                                          & A Crimes against the person                                        & A20 Assault and related offences                                   & A22 Assault police, emergency services or other authorised officer & 142                                                               \\\\\n",
       "\\end{tabular}\n"
      ],
      "text/markdown": [
       "\n",
       "Year.ending.March | Postcode | Suburb.Town.Name | Offence.Division | Offence.Subdivision | Offence.Subgroup | Incidents.Recorded | \n",
       "|---|---|---|---|---|\n",
       "| 2018                                                               | 3000                                                               | MELBOURNE                                                          | A Crimes against the person                                        | A20 Assault and related offences                                   | A232 Non-FV Common assault                                         | 646                                                                | \n",
       "| 2018                                                               | 3000                                                               | MELBOURNE                                                          | A Crimes against the person                                        | A20 Assault and related offences                                   | A231 FV Common assault                                             | 129                                                                | \n",
       "| 2018                                                               | 3000                                                               | MELBOURNE                                                          | A Crimes against the person                                        | A20 Assault and related offences                                   | A212 Non-FV Serious assault                                        | 601                                                                | \n",
       "| 2018                                                               | 3000                                                               | MELBOURNE                                                          | A Crimes against the person                                        | A20 Assault and related offences                                   | A211 FV Serious assault                                            | 108                                                                | \n",
       "| 2018                                                               | 3000                                                               | MELBOURNE                                                          | A Crimes against the person                                        | A20 Assault and related offences                                   | A22 Assault police, emergency services or other authorised officer | 142                                                                | \n",
       "\n",
       "\n"
      ],
      "text/plain": [
       "  Year.ending.March Postcode Suburb.Town.Name Offence.Division           \n",
       "1 2018              3000     MELBOURNE        A Crimes against the person\n",
       "2 2018              3000     MELBOURNE        A Crimes against the person\n",
       "3 2018              3000     MELBOURNE        A Crimes against the person\n",
       "4 2018              3000     MELBOURNE        A Crimes against the person\n",
       "5 2018              3000     MELBOURNE        A Crimes against the person\n",
       "  Offence.Subdivision             \n",
       "1 A20 Assault and related offences\n",
       "2 A20 Assault and related offences\n",
       "3 A20 Assault and related offences\n",
       "4 A20 Assault and related offences\n",
       "5 A20 Assault and related offences\n",
       "  Offence.Subgroup                                                  \n",
       "1 A232 Non-FV Common assault                                        \n",
       "2 A231 FV Common assault                                            \n",
       "3 A212 Non-FV Serious assault                                       \n",
       "4 A211 FV Serious assault                                           \n",
       "5 A22 Assault police, emergency services or other authorised officer\n",
       "  Incidents.Recorded\n",
       "1 646               \n",
       "2 129               \n",
       "3 601               \n",
       "4 108               \n",
       "5 142               "
      ]
     },
     "metadata": {},
     "output_type": "display_data"
    }
   ],
   "source": [
    "crimedata = read.csv(\"Data_tables_Criminal_Incidents_Visualisation_year_ending_March_2018.csv\", header = TRUE, fileEncoding=\"UTF-8-BOM\")\n",
    "head(crimedata, n=5)"
   ]
  },
  {
   "cell_type": "markdown",
   "metadata": {},
   "source": [
    "# Process the data"
   ]
  },
  {
   "cell_type": "code",
   "execution_count": 3,
   "metadata": {},
   "outputs": [],
   "source": [
    "# Remove \",\" in Incidence.Recorded column\n",
    "\n",
    "crimedata[7] <- lapply(crimedata[7], gsub, pattern = \",\", replacement = \"\", fixed = TRUE)\n",
    "crimedata[7] <- sapply(crimedata[7], as.integer)"
   ]
  },
  {
   "cell_type": "code",
   "execution_count": 4,
   "metadata": {},
   "outputs": [
    {
     "data": {
      "text/html": [
       "<table>\n",
       "<thead><tr><th scope=col>Year.ending.March</th><th scope=col>Postcode</th><th scope=col>Suburb.Town.Name</th><th scope=col>Offence.Division</th><th scope=col>Offence.Subdivision</th><th scope=col>Offence.Subgroup</th><th scope=col>Incidents.Recorded</th></tr></thead>\n",
       "<tbody>\n",
       "\t<tr><td>2018                                                              </td><td>3000                                                              </td><td>MELBOURNE                                                         </td><td>A Crimes against the person                                       </td><td>A20 Assault and related offences                                  </td><td>A232 Non-FV Common assault                                        </td><td>646                                                               </td></tr>\n",
       "\t<tr><td>2018                                                              </td><td>3000                                                              </td><td>MELBOURNE                                                         </td><td>A Crimes against the person                                       </td><td>A20 Assault and related offences                                  </td><td>A231 FV Common assault                                            </td><td>129                                                               </td></tr>\n",
       "\t<tr><td>2018                                                              </td><td>3000                                                              </td><td>MELBOURNE                                                         </td><td>A Crimes against the person                                       </td><td>A20 Assault and related offences                                  </td><td>A212 Non-FV Serious assault                                       </td><td>601                                                               </td></tr>\n",
       "\t<tr><td>2018                                                              </td><td>3000                                                              </td><td>MELBOURNE                                                         </td><td>A Crimes against the person                                       </td><td>A20 Assault and related offences                                  </td><td>A211 FV Serious assault                                           </td><td>108                                                               </td></tr>\n",
       "\t<tr><td>2018                                                              </td><td>3000                                                              </td><td>MELBOURNE                                                         </td><td>A Crimes against the person                                       </td><td>A20 Assault and related offences                                  </td><td>A22 Assault police, emergency services or other authorised officer</td><td>142                                                               </td></tr>\n",
       "</tbody>\n",
       "</table>\n"
      ],
      "text/latex": [
       "\\begin{tabular}{r|lllllll}\n",
       " Year.ending.March & Postcode & Suburb.Town.Name & Offence.Division & Offence.Subdivision & Offence.Subgroup & Incidents.Recorded\\\\\n",
       "\\hline\n",
       "\t 2018                                                               & 3000                                                               & MELBOURNE                                                          & A Crimes against the person                                        & A20 Assault and related offences                                   & A232 Non-FV Common assault                                         & 646                                                               \\\\\n",
       "\t 2018                                                               & 3000                                                               & MELBOURNE                                                          & A Crimes against the person                                        & A20 Assault and related offences                                   & A231 FV Common assault                                             & 129                                                               \\\\\n",
       "\t 2018                                                               & 3000                                                               & MELBOURNE                                                          & A Crimes against the person                                        & A20 Assault and related offences                                   & A212 Non-FV Serious assault                                        & 601                                                               \\\\\n",
       "\t 2018                                                               & 3000                                                               & MELBOURNE                                                          & A Crimes against the person                                        & A20 Assault and related offences                                   & A211 FV Serious assault                                            & 108                                                               \\\\\n",
       "\t 2018                                                               & 3000                                                               & MELBOURNE                                                          & A Crimes against the person                                        & A20 Assault and related offences                                   & A22 Assault police, emergency services or other authorised officer & 142                                                               \\\\\n",
       "\\end{tabular}\n"
      ],
      "text/markdown": [
       "\n",
       "Year.ending.March | Postcode | Suburb.Town.Name | Offence.Division | Offence.Subdivision | Offence.Subgroup | Incidents.Recorded | \n",
       "|---|---|---|---|---|\n",
       "| 2018                                                               | 3000                                                               | MELBOURNE                                                          | A Crimes against the person                                        | A20 Assault and related offences                                   | A232 Non-FV Common assault                                         | 646                                                                | \n",
       "| 2018                                                               | 3000                                                               | MELBOURNE                                                          | A Crimes against the person                                        | A20 Assault and related offences                                   | A231 FV Common assault                                             | 129                                                                | \n",
       "| 2018                                                               | 3000                                                               | MELBOURNE                                                          | A Crimes against the person                                        | A20 Assault and related offences                                   | A212 Non-FV Serious assault                                        | 601                                                                | \n",
       "| 2018                                                               | 3000                                                               | MELBOURNE                                                          | A Crimes against the person                                        | A20 Assault and related offences                                   | A211 FV Serious assault                                            | 108                                                                | \n",
       "| 2018                                                               | 3000                                                               | MELBOURNE                                                          | A Crimes against the person                                        | A20 Assault and related offences                                   | A22 Assault police, emergency services or other authorised officer | 142                                                                | \n",
       "\n",
       "\n"
      ],
      "text/plain": [
       "  Year.ending.March Postcode Suburb.Town.Name Offence.Division           \n",
       "1 2018              3000     MELBOURNE        A Crimes against the person\n",
       "2 2018              3000     MELBOURNE        A Crimes against the person\n",
       "3 2018              3000     MELBOURNE        A Crimes against the person\n",
       "4 2018              3000     MELBOURNE        A Crimes against the person\n",
       "5 2018              3000     MELBOURNE        A Crimes against the person\n",
       "  Offence.Subdivision             \n",
       "1 A20 Assault and related offences\n",
       "2 A20 Assault and related offences\n",
       "3 A20 Assault and related offences\n",
       "4 A20 Assault and related offences\n",
       "5 A20 Assault and related offences\n",
       "  Offence.Subgroup                                                  \n",
       "1 A232 Non-FV Common assault                                        \n",
       "2 A231 FV Common assault                                            \n",
       "3 A212 Non-FV Serious assault                                       \n",
       "4 A211 FV Serious assault                                           \n",
       "5 A22 Assault police, emergency services or other authorised officer\n",
       "  Incidents.Recorded\n",
       "1 646               \n",
       "2 129               \n",
       "3 601               \n",
       "4 108               \n",
       "5 142               "
      ]
     },
     "metadata": {},
     "output_type": "display_data"
    }
   ],
   "source": [
    "# Sort offenses by Offence Division to identify targeted crimes that take place in public\n",
    "\n",
    "crimedata = subset(crimedata, Offence.Division == \"A Crimes against the person\" | Offence.Division == \"D Public order and security offences\")\n",
    "head(crimedata, n=5)"
   ]
  },
  {
   "cell_type": "code",
   "execution_count": 5,
   "metadata": {
    "scrolled": true
   },
   "outputs": [
    {
     "data": {
      "text/html": [
       "<table>\n",
       "<thead><tr><th scope=col>Offence.Division</th><th scope=col>freq</th></tr></thead>\n",
       "<tbody>\n",
       "\t<tr><td>A Crimes against the person         </td><td>74194                               </td></tr>\n",
       "\t<tr><td>D Public order and security offences</td><td>34835                               </td></tr>\n",
       "</tbody>\n",
       "</table>\n"
      ],
      "text/latex": [
       "\\begin{tabular}{r|ll}\n",
       " Offence.Division & freq\\\\\n",
       "\\hline\n",
       "\t A Crimes against the person          & 74194                               \\\\\n",
       "\t D Public order and security offences & 34835                               \\\\\n",
       "\\end{tabular}\n"
      ],
      "text/markdown": [
       "\n",
       "Offence.Division | freq | \n",
       "|---|---|\n",
       "| A Crimes against the person          | 74194                                | \n",
       "| D Public order and security offences | 34835                                | \n",
       "\n",
       "\n"
      ],
      "text/plain": [
       "  Offence.Division                     freq \n",
       "1 A Crimes against the person          74194\n",
       "2 D Public order and security offences 34835"
      ]
     },
     "metadata": {},
     "output_type": "display_data"
    }
   ],
   "source": [
    "count(crimedata, 'Offence.Division')"
   ]
  },
  {
   "cell_type": "code",
   "execution_count": 6,
   "metadata": {
    "scrolled": true
   },
   "outputs": [
    {
     "data": {
      "text/html": [
       "<table>\n",
       "<thead><tr><th scope=col>Year.ending.March</th><th scope=col>Postcode</th><th scope=col>Suburb.Town.Name</th><th scope=col>Offence.Division</th><th scope=col>Offence.Subdivision</th><th scope=col>Offence.Subgroup</th><th scope=col>Incidents.Recorded</th></tr></thead>\n",
       "<tbody>\n",
       "\t<tr><td>2018                                                              </td><td>3000                                                              </td><td>MELBOURNE                                                         </td><td>A Crimes against the person                                       </td><td>A20 Assault and related offences                                  </td><td>A232 Non-FV Common assault                                        </td><td>646                                                               </td></tr>\n",
       "\t<tr><td>2018                                                              </td><td>3000                                                              </td><td>MELBOURNE                                                         </td><td>A Crimes against the person                                       </td><td>A20 Assault and related offences                                  </td><td>A231 FV Common assault                                            </td><td>129                                                               </td></tr>\n",
       "\t<tr><td>2018                                                              </td><td>3000                                                              </td><td>MELBOURNE                                                         </td><td>A Crimes against the person                                       </td><td>A20 Assault and related offences                                  </td><td>A212 Non-FV Serious assault                                       </td><td>601                                                               </td></tr>\n",
       "\t<tr><td>2018                                                              </td><td>3000                                                              </td><td>MELBOURNE                                                         </td><td>A Crimes against the person                                       </td><td>A20 Assault and related offences                                  </td><td>A211 FV Serious assault                                           </td><td>108                                                               </td></tr>\n",
       "\t<tr><td>2018                                                              </td><td>3000                                                              </td><td>MELBOURNE                                                         </td><td>A Crimes against the person                                       </td><td>A20 Assault and related offences                                  </td><td>A22 Assault police, emergency services or other authorised officer</td><td>142                                                               </td></tr>\n",
       "</tbody>\n",
       "</table>\n"
      ],
      "text/latex": [
       "\\begin{tabular}{r|lllllll}\n",
       " Year.ending.March & Postcode & Suburb.Town.Name & Offence.Division & Offence.Subdivision & Offence.Subgroup & Incidents.Recorded\\\\\n",
       "\\hline\n",
       "\t 2018                                                               & 3000                                                               & MELBOURNE                                                          & A Crimes against the person                                        & A20 Assault and related offences                                   & A232 Non-FV Common assault                                         & 646                                                               \\\\\n",
       "\t 2018                                                               & 3000                                                               & MELBOURNE                                                          & A Crimes against the person                                        & A20 Assault and related offences                                   & A231 FV Common assault                                             & 129                                                               \\\\\n",
       "\t 2018                                                               & 3000                                                               & MELBOURNE                                                          & A Crimes against the person                                        & A20 Assault and related offences                                   & A212 Non-FV Serious assault                                        & 601                                                               \\\\\n",
       "\t 2018                                                               & 3000                                                               & MELBOURNE                                                          & A Crimes against the person                                        & A20 Assault and related offences                                   & A211 FV Serious assault                                            & 108                                                               \\\\\n",
       "\t 2018                                                               & 3000                                                               & MELBOURNE                                                          & A Crimes against the person                                        & A20 Assault and related offences                                   & A22 Assault police, emergency services or other authorised officer & 142                                                               \\\\\n",
       "\\end{tabular}\n"
      ],
      "text/markdown": [
       "\n",
       "Year.ending.March | Postcode | Suburb.Town.Name | Offence.Division | Offence.Subdivision | Offence.Subgroup | Incidents.Recorded | \n",
       "|---|---|---|---|---|\n",
       "| 2018                                                               | 3000                                                               | MELBOURNE                                                          | A Crimes against the person                                        | A20 Assault and related offences                                   | A232 Non-FV Common assault                                         | 646                                                                | \n",
       "| 2018                                                               | 3000                                                               | MELBOURNE                                                          | A Crimes against the person                                        | A20 Assault and related offences                                   | A231 FV Common assault                                             | 129                                                                | \n",
       "| 2018                                                               | 3000                                                               | MELBOURNE                                                          | A Crimes against the person                                        | A20 Assault and related offences                                   | A212 Non-FV Serious assault                                        | 601                                                                | \n",
       "| 2018                                                               | 3000                                                               | MELBOURNE                                                          | A Crimes against the person                                        | A20 Assault and related offences                                   | A211 FV Serious assault                                            | 108                                                                | \n",
       "| 2018                                                               | 3000                                                               | MELBOURNE                                                          | A Crimes against the person                                        | A20 Assault and related offences                                   | A22 Assault police, emergency services or other authorised officer | 142                                                                | \n",
       "\n",
       "\n"
      ],
      "text/plain": [
       "  Year.ending.March Postcode Suburb.Town.Name Offence.Division           \n",
       "1 2018              3000     MELBOURNE        A Crimes against the person\n",
       "2 2018              3000     MELBOURNE        A Crimes against the person\n",
       "3 2018              3000     MELBOURNE        A Crimes against the person\n",
       "4 2018              3000     MELBOURNE        A Crimes against the person\n",
       "5 2018              3000     MELBOURNE        A Crimes against the person\n",
       "  Offence.Subdivision             \n",
       "1 A20 Assault and related offences\n",
       "2 A20 Assault and related offences\n",
       "3 A20 Assault and related offences\n",
       "4 A20 Assault and related offences\n",
       "5 A20 Assault and related offences\n",
       "  Offence.Subgroup                                                  \n",
       "1 A232 Non-FV Common assault                                        \n",
       "2 A231 FV Common assault                                            \n",
       "3 A212 Non-FV Serious assault                                       \n",
       "4 A211 FV Serious assault                                           \n",
       "5 A22 Assault police, emergency services or other authorised officer\n",
       "  Incidents.Recorded\n",
       "1 646               \n",
       "2 129               \n",
       "3 601               \n",
       "4 108               \n",
       "5 142               "
      ]
     },
     "metadata": {},
     "output_type": "display_data"
    }
   ],
   "source": [
    "crimedata = subset(crimedata, Offence.Subdivision!=\"A50 Robbery\")\n",
    "crimedata = subset(crimedata, Offence.Subdivision!=\"D10 Weapons and explosives offences\")\n",
    "crimedata = subset(crimedata, Offence.Subdivision!=\"Other crimes against the person\")\n",
    "\n",
    "head(crimedata, n=5)"
   ]
  },
  {
   "cell_type": "code",
   "execution_count": 7,
   "metadata": {},
   "outputs": [
    {
     "data": {
      "text/html": [
       "<table>\n",
       "<thead><tr><th scope=col>Offence.Subdivision</th><th scope=col>freq</th></tr></thead>\n",
       "<tbody>\n",
       "\t<tr><td>A20 Assault and related offences                   </td><td>33221                                              </td></tr>\n",
       "\t<tr><td>A70 Stalking, harassment and threatening behaviour </td><td>17804                                              </td></tr>\n",
       "\t<tr><td>A80 Dangerous and negligent acts endangering people</td><td>10158                                              </td></tr>\n",
       "\t<tr><td>D20 Disorderly and offensive conduct               </td><td>16929                                              </td></tr>\n",
       "\t<tr><td>D30 Public nuisance offences                       </td><td> 5778                                              </td></tr>\n",
       "\t<tr><td>D40 Public security offences                       </td><td>  295                                              </td></tr>\n",
       "</tbody>\n",
       "</table>\n"
      ],
      "text/latex": [
       "\\begin{tabular}{r|ll}\n",
       " Offence.Subdivision & freq\\\\\n",
       "\\hline\n",
       "\t A20 Assault and related offences                    & 33221                                              \\\\\n",
       "\t A70 Stalking, harassment and threatening behaviour  & 17804                                              \\\\\n",
       "\t A80 Dangerous and negligent acts endangering people & 10158                                              \\\\\n",
       "\t D20 Disorderly and offensive conduct                & 16929                                              \\\\\n",
       "\t D30 Public nuisance offences                        &  5778                                              \\\\\n",
       "\t D40 Public security offences                        &   295                                              \\\\\n",
       "\\end{tabular}\n"
      ],
      "text/markdown": [
       "\n",
       "Offence.Subdivision | freq | \n",
       "|---|---|---|---|---|---|\n",
       "| A20 Assault and related offences                    | 33221                                               | \n",
       "| A70 Stalking, harassment and threatening behaviour  | 17804                                               | \n",
       "| A80 Dangerous and negligent acts endangering people | 10158                                               | \n",
       "| D20 Disorderly and offensive conduct                | 16929                                               | \n",
       "| D30 Public nuisance offences                        |  5778                                               | \n",
       "| D40 Public security offences                        |   295                                               | \n",
       "\n",
       "\n"
      ],
      "text/plain": [
       "  Offence.Subdivision                                 freq \n",
       "1 A20 Assault and related offences                    33221\n",
       "2 A70 Stalking, harassment and threatening behaviour  17804\n",
       "3 A80 Dangerous and negligent acts endangering people 10158\n",
       "4 D20 Disorderly and offensive conduct                16929\n",
       "5 D30 Public nuisance offences                         5778\n",
       "6 D40 Public security offences                          295"
      ]
     },
     "metadata": {},
     "output_type": "display_data"
    }
   ],
   "source": [
    "count(crimedata, 'Offence.Subdivision')"
   ]
  },
  {
   "cell_type": "code",
   "execution_count": 8,
   "metadata": {},
   "outputs": [],
   "source": [
    "crimedata = separate(data = crimedata, col = Offence.Subgroup, into = c(\"Offence.Subgroup.Code\", \"Offence.Subgroup.Name\"), sep = \" \", extra = \"merge\", remove = FALSE)"
   ]
  },
  {
   "cell_type": "code",
   "execution_count": 9,
   "metadata": {},
   "outputs": [
    {
     "data": {
      "text/html": [
       "<table>\n",
       "<thead><tr><th scope=col>Year.ending.March</th><th scope=col>Postcode</th><th scope=col>Suburb.Town.Name</th><th scope=col>Offence.Division</th><th scope=col>Offence.Subdivision</th><th scope=col>Offence.Subgroup</th><th scope=col>Offence.Subgroup.Code</th><th scope=col>Offence.Subgroup.Name</th><th scope=col>Incidents.Recorded</th></tr></thead>\n",
       "<tbody>\n",
       "\t<tr><td>2018                                                              </td><td>3000                                                              </td><td>MELBOURNE                                                         </td><td>A Crimes against the person                                       </td><td>A20 Assault and related offences                                  </td><td>A232 Non-FV Common assault                                        </td><td>A232                                                              </td><td>Non-FV Common assault                                             </td><td>646                                                               </td></tr>\n",
       "\t<tr><td>2018                                                              </td><td>3000                                                              </td><td>MELBOURNE                                                         </td><td>A Crimes against the person                                       </td><td>A20 Assault and related offences                                  </td><td>A231 FV Common assault                                            </td><td>A231                                                              </td><td>FV Common assault                                                 </td><td>129                                                               </td></tr>\n",
       "\t<tr><td>2018                                                              </td><td>3000                                                              </td><td>MELBOURNE                                                         </td><td>A Crimes against the person                                       </td><td>A20 Assault and related offences                                  </td><td>A212 Non-FV Serious assault                                       </td><td>A212                                                              </td><td>Non-FV Serious assault                                            </td><td>601                                                               </td></tr>\n",
       "\t<tr><td>2018                                                              </td><td>3000                                                              </td><td>MELBOURNE                                                         </td><td>A Crimes against the person                                       </td><td>A20 Assault and related offences                                  </td><td>A211 FV Serious assault                                           </td><td>A211                                                              </td><td>FV Serious assault                                                </td><td>108                                                               </td></tr>\n",
       "\t<tr><td>2018                                                              </td><td>3000                                                              </td><td>MELBOURNE                                                         </td><td>A Crimes against the person                                       </td><td>A20 Assault and related offences                                  </td><td>A22 Assault police, emergency services or other authorised officer</td><td>A22                                                               </td><td>Assault police, emergency services or other authorised officer    </td><td>142                                                               </td></tr>\n",
       "</tbody>\n",
       "</table>\n"
      ],
      "text/latex": [
       "\\begin{tabular}{r|lllllllll}\n",
       " Year.ending.March & Postcode & Suburb.Town.Name & Offence.Division & Offence.Subdivision & Offence.Subgroup & Offence.Subgroup.Code & Offence.Subgroup.Name & Incidents.Recorded\\\\\n",
       "\\hline\n",
       "\t 2018                                                               & 3000                                                               & MELBOURNE                                                          & A Crimes against the person                                        & A20 Assault and related offences                                   & A232 Non-FV Common assault                                         & A232                                                               & Non-FV Common assault                                              & 646                                                               \\\\\n",
       "\t 2018                                                               & 3000                                                               & MELBOURNE                                                          & A Crimes against the person                                        & A20 Assault and related offences                                   & A231 FV Common assault                                             & A231                                                               & FV Common assault                                                  & 129                                                               \\\\\n",
       "\t 2018                                                               & 3000                                                               & MELBOURNE                                                          & A Crimes against the person                                        & A20 Assault and related offences                                   & A212 Non-FV Serious assault                                        & A212                                                               & Non-FV Serious assault                                             & 601                                                               \\\\\n",
       "\t 2018                                                               & 3000                                                               & MELBOURNE                                                          & A Crimes against the person                                        & A20 Assault and related offences                                   & A211 FV Serious assault                                            & A211                                                               & FV Serious assault                                                 & 108                                                               \\\\\n",
       "\t 2018                                                               & 3000                                                               & MELBOURNE                                                          & A Crimes against the person                                        & A20 Assault and related offences                                   & A22 Assault police, emergency services or other authorised officer & A22                                                                & Assault police, emergency services or other authorised officer     & 142                                                               \\\\\n",
       "\\end{tabular}\n"
      ],
      "text/markdown": [
       "\n",
       "Year.ending.March | Postcode | Suburb.Town.Name | Offence.Division | Offence.Subdivision | Offence.Subgroup | Offence.Subgroup.Code | Offence.Subgroup.Name | Incidents.Recorded | \n",
       "|---|---|---|---|---|\n",
       "| 2018                                                               | 3000                                                               | MELBOURNE                                                          | A Crimes against the person                                        | A20 Assault and related offences                                   | A232 Non-FV Common assault                                         | A232                                                               | Non-FV Common assault                                              | 646                                                                | \n",
       "| 2018                                                               | 3000                                                               | MELBOURNE                                                          | A Crimes against the person                                        | A20 Assault and related offences                                   | A231 FV Common assault                                             | A231                                                               | FV Common assault                                                  | 129                                                                | \n",
       "| 2018                                                               | 3000                                                               | MELBOURNE                                                          | A Crimes against the person                                        | A20 Assault and related offences                                   | A212 Non-FV Serious assault                                        | A212                                                               | Non-FV Serious assault                                             | 601                                                                | \n",
       "| 2018                                                               | 3000                                                               | MELBOURNE                                                          | A Crimes against the person                                        | A20 Assault and related offences                                   | A211 FV Serious assault                                            | A211                                                               | FV Serious assault                                                 | 108                                                                | \n",
       "| 2018                                                               | 3000                                                               | MELBOURNE                                                          | A Crimes against the person                                        | A20 Assault and related offences                                   | A22 Assault police, emergency services or other authorised officer | A22                                                                | Assault police, emergency services or other authorised officer     | 142                                                                | \n",
       "\n",
       "\n"
      ],
      "text/plain": [
       "  Year.ending.March Postcode Suburb.Town.Name Offence.Division           \n",
       "1 2018              3000     MELBOURNE        A Crimes against the person\n",
       "2 2018              3000     MELBOURNE        A Crimes against the person\n",
       "3 2018              3000     MELBOURNE        A Crimes against the person\n",
       "4 2018              3000     MELBOURNE        A Crimes against the person\n",
       "5 2018              3000     MELBOURNE        A Crimes against the person\n",
       "  Offence.Subdivision             \n",
       "1 A20 Assault and related offences\n",
       "2 A20 Assault and related offences\n",
       "3 A20 Assault and related offences\n",
       "4 A20 Assault and related offences\n",
       "5 A20 Assault and related offences\n",
       "  Offence.Subgroup                                                  \n",
       "1 A232 Non-FV Common assault                                        \n",
       "2 A231 FV Common assault                                            \n",
       "3 A212 Non-FV Serious assault                                       \n",
       "4 A211 FV Serious assault                                           \n",
       "5 A22 Assault police, emergency services or other authorised officer\n",
       "  Offence.Subgroup.Code\n",
       "1 A232                 \n",
       "2 A231                 \n",
       "3 A212                 \n",
       "4 A211                 \n",
       "5 A22                  \n",
       "  Offence.Subgroup.Name                                         \n",
       "1 Non-FV Common assault                                         \n",
       "2 FV Common assault                                             \n",
       "3 Non-FV Serious assault                                        \n",
       "4 FV Serious assault                                            \n",
       "5 Assault police, emergency services or other authorised officer\n",
       "  Incidents.Recorded\n",
       "1 646               \n",
       "2 129               \n",
       "3 601               \n",
       "4 108               \n",
       "5 142               "
      ]
     },
     "metadata": {},
     "output_type": "display_data"
    }
   ],
   "source": [
    "head(crimedata, n=5)"
   ]
  },
  {
   "cell_type": "code",
   "execution_count": 10,
   "metadata": {},
   "outputs": [],
   "source": [
    "crimedata = subset(crimedata, Offence.Subgroup.Code!=\"A231\")\n",
    "crimedata = subset(crimedata, Offence.Subgroup.Code!=\"A211\")\n",
    "crimedata = subset(crimedata, Offence.Subgroup.Code!=\"A731\")\n",
    "crimedata = subset(crimedata, Offence.Subgroup.Code!=\"A711\")\n",
    "crimedata = subset(crimedata, Offence.Subgroup.Code!=\"A721\")"
   ]
  },
  {
   "cell_type": "code",
   "execution_count": 11,
   "metadata": {},
   "outputs": [
    {
     "data": {
      "text/html": [
       "<table>\n",
       "<thead><tr><th scope=col>Offence.Subgroup</th><th scope=col>freq</th></tr></thead>\n",
       "<tbody>\n",
       "\t<tr><td>A212 Non-FV Serious assault                                       </td><td>7654                                                              </td></tr>\n",
       "\t<tr><td>A22 Assault police, emergency services or other authorised officer</td><td>3733                                                              </td></tr>\n",
       "\t<tr><td>A232 Non-FV Common assault                                        </td><td>6589                                                              </td></tr>\n",
       "\t<tr><td>A712 Non-FV Stalking                                              </td><td>3342                                                              </td></tr>\n",
       "\t<tr><td>A722 Non-FV Harassment and private nuisance                       </td><td>2075                                                              </td></tr>\n",
       "\t<tr><td>A732 Non-FV Threatening behaviour                                 </td><td>4361                                                              </td></tr>\n",
       "\t<tr><td>A81 Dangerous driving                                             </td><td>1730                                                              </td></tr>\n",
       "\t<tr><td>A82 Neglect or ill treatment of people                            </td><td> 428                                                              </td></tr>\n",
       "\t<tr><td>A83 Throw or discharge object endangering people                  </td><td>2791                                                              </td></tr>\n",
       "\t<tr><td>A89 Other dangerous or negligent acts endangering people          </td><td>5209                                                              </td></tr>\n",
       "\t<tr><td>D21 Riot and affray                                               </td><td>1505                                                              </td></tr>\n",
       "\t<tr><td>D22 Drunk and disorderly in public                                </td><td>5271                                                              </td></tr>\n",
       "\t<tr><td>D23 Offensive conduct                                             </td><td>4513                                                              </td></tr>\n",
       "\t<tr><td>D24 Offensive language                                            </td><td>2502                                                              </td></tr>\n",
       "\t<tr><td>D25 Criminal intent                                               </td><td>2145                                                              </td></tr>\n",
       "\t<tr><td>D26 Disorderly conduct                                            </td><td> 993                                                              </td></tr>\n",
       "\t<tr><td>D31 Privacy offences                                              </td><td> 255                                                              </td></tr>\n",
       "\t<tr><td>D32 Hoaxes                                                        </td><td> 803                                                              </td></tr>\n",
       "\t<tr><td>D33 Begging                                                       </td><td> 300                                                              </td></tr>\n",
       "\t<tr><td>D34 Defamation and libel                                          </td><td>   2                                                              </td></tr>\n",
       "\t<tr><td>D35 Improper movement on public or private space                  </td><td>3651                                                              </td></tr>\n",
       "\t<tr><td>D36 Other public nuisance offences                                </td><td> 767                                                              </td></tr>\n",
       "\t<tr><td>D41 Immigration offences                                          </td><td>   4                                                              </td></tr>\n",
       "\t<tr><td>D42 Sabotage                                                      </td><td>   1                                                              </td></tr>\n",
       "\t<tr><td>D43 Hacking                                                       </td><td> 260                                                              </td></tr>\n",
       "\t<tr><td>D44 Terrorism offences                                            </td><td>  13                                                              </td></tr>\n",
       "\t<tr><td>D49 Other public security offences                                </td><td>  17                                                              </td></tr>\n",
       "</tbody>\n",
       "</table>\n"
      ],
      "text/latex": [
       "\\begin{tabular}{r|ll}\n",
       " Offence.Subgroup & freq\\\\\n",
       "\\hline\n",
       "\t A212 Non-FV Serious assault                                        & 7654                                                              \\\\\n",
       "\t A22 Assault police, emergency services or other authorised officer & 3733                                                              \\\\\n",
       "\t A232 Non-FV Common assault                                         & 6589                                                              \\\\\n",
       "\t A712 Non-FV Stalking                                               & 3342                                                              \\\\\n",
       "\t A722 Non-FV Harassment and private nuisance                        & 2075                                                              \\\\\n",
       "\t A732 Non-FV Threatening behaviour                                  & 4361                                                              \\\\\n",
       "\t A81 Dangerous driving                                              & 1730                                                              \\\\\n",
       "\t A82 Neglect or ill treatment of people                             &  428                                                              \\\\\n",
       "\t A83 Throw or discharge object endangering people                   & 2791                                                              \\\\\n",
       "\t A89 Other dangerous or negligent acts endangering people           & 5209                                                              \\\\\n",
       "\t D21 Riot and affray                                                & 1505                                                              \\\\\n",
       "\t D22 Drunk and disorderly in public                                 & 5271                                                              \\\\\n",
       "\t D23 Offensive conduct                                              & 4513                                                              \\\\\n",
       "\t D24 Offensive language                                             & 2502                                                              \\\\\n",
       "\t D25 Criminal intent                                                & 2145                                                              \\\\\n",
       "\t D26 Disorderly conduct                                             &  993                                                              \\\\\n",
       "\t D31 Privacy offences                                               &  255                                                              \\\\\n",
       "\t D32 Hoaxes                                                         &  803                                                              \\\\\n",
       "\t D33 Begging                                                        &  300                                                              \\\\\n",
       "\t D34 Defamation and libel                                           &    2                                                              \\\\\n",
       "\t D35 Improper movement on public or private space                   & 3651                                                              \\\\\n",
       "\t D36 Other public nuisance offences                                 &  767                                                              \\\\\n",
       "\t D41 Immigration offences                                           &    4                                                              \\\\\n",
       "\t D42 Sabotage                                                       &    1                                                              \\\\\n",
       "\t D43 Hacking                                                        &  260                                                              \\\\\n",
       "\t D44 Terrorism offences                                             &   13                                                              \\\\\n",
       "\t D49 Other public security offences                                 &   17                                                              \\\\\n",
       "\\end{tabular}\n"
      ],
      "text/markdown": [
       "\n",
       "Offence.Subgroup | freq | \n",
       "|---|---|---|---|---|---|---|---|---|---|---|---|---|---|---|---|---|---|---|---|---|---|---|---|---|---|---|\n",
       "| A212 Non-FV Serious assault                                        | 7654                                                               | \n",
       "| A22 Assault police, emergency services or other authorised officer | 3733                                                               | \n",
       "| A232 Non-FV Common assault                                         | 6589                                                               | \n",
       "| A712 Non-FV Stalking                                               | 3342                                                               | \n",
       "| A722 Non-FV Harassment and private nuisance                        | 2075                                                               | \n",
       "| A732 Non-FV Threatening behaviour                                  | 4361                                                               | \n",
       "| A81 Dangerous driving                                              | 1730                                                               | \n",
       "| A82 Neglect or ill treatment of people                             |  428                                                               | \n",
       "| A83 Throw or discharge object endangering people                   | 2791                                                               | \n",
       "| A89 Other dangerous or negligent acts endangering people           | 5209                                                               | \n",
       "| D21 Riot and affray                                                | 1505                                                               | \n",
       "| D22 Drunk and disorderly in public                                 | 5271                                                               | \n",
       "| D23 Offensive conduct                                              | 4513                                                               | \n",
       "| D24 Offensive language                                             | 2502                                                               | \n",
       "| D25 Criminal intent                                                | 2145                                                               | \n",
       "| D26 Disorderly conduct                                             |  993                                                               | \n",
       "| D31 Privacy offences                                               |  255                                                               | \n",
       "| D32 Hoaxes                                                         |  803                                                               | \n",
       "| D33 Begging                                                        |  300                                                               | \n",
       "| D34 Defamation and libel                                           |    2                                                               | \n",
       "| D35 Improper movement on public or private space                   | 3651                                                               | \n",
       "| D36 Other public nuisance offences                                 |  767                                                               | \n",
       "| D41 Immigration offences                                           |    4                                                               | \n",
       "| D42 Sabotage                                                       |    1                                                               | \n",
       "| D43 Hacking                                                        |  260                                                               | \n",
       "| D44 Terrorism offences                                             |   13                                                               | \n",
       "| D49 Other public security offences                                 |   17                                                               | \n",
       "\n",
       "\n"
      ],
      "text/plain": [
       "   Offence.Subgroup                                                   freq\n",
       "1  A212 Non-FV Serious assault                                        7654\n",
       "2  A22 Assault police, emergency services or other authorised officer 3733\n",
       "3  A232 Non-FV Common assault                                         6589\n",
       "4  A712 Non-FV Stalking                                               3342\n",
       "5  A722 Non-FV Harassment and private nuisance                        2075\n",
       "6  A732 Non-FV Threatening behaviour                                  4361\n",
       "7  A81 Dangerous driving                                              1730\n",
       "8  A82 Neglect or ill treatment of people                              428\n",
       "9  A83 Throw or discharge object endangering people                   2791\n",
       "10 A89 Other dangerous or negligent acts endangering people           5209\n",
       "11 D21 Riot and affray                                                1505\n",
       "12 D22 Drunk and disorderly in public                                 5271\n",
       "13 D23 Offensive conduct                                              4513\n",
       "14 D24 Offensive language                                             2502\n",
       "15 D25 Criminal intent                                                2145\n",
       "16 D26 Disorderly conduct                                              993\n",
       "17 D31 Privacy offences                                                255\n",
       "18 D32 Hoaxes                                                          803\n",
       "19 D33 Begging                                                         300\n",
       "20 D34 Defamation and libel                                              2\n",
       "21 D35 Improper movement on public or private space                   3651\n",
       "22 D36 Other public nuisance offences                                  767\n",
       "23 D41 Immigration offences                                              4\n",
       "24 D42 Sabotage                                                          1\n",
       "25 D43 Hacking                                                         260\n",
       "26 D44 Terrorism offences                                               13\n",
       "27 D49 Other public security offences                                   17"
      ]
     },
     "metadata": {},
     "output_type": "display_data"
    }
   ],
   "source": [
    "count(crimedata, 'Offence.Subgroup')"
   ]
  },
  {
   "cell_type": "code",
   "execution_count": 12,
   "metadata": {},
   "outputs": [],
   "source": [
    "crimedata = subset(crimedata, Offence.Subgroup.Code!=\"D12\")\n",
    "crimedata = subset(crimedata, Offence.Subgroup.Code!=\"D11\")\n",
    "crimedata = subset(crimedata, Offence.Subgroup.Code!=\"A22\")\n",
    "crimedata = subset(crimedata, Offence.Subgroup.Code!=\"D25\")\n",
    "crimedata = subset(crimedata, Offence.Subgroup.Code!=\"A82\")\n",
    "crimedata = subset(crimedata, Offence.Subgroup.Code!=\"D33\")\n",
    "crimedata = subset(crimedata, Offence.Subgroup.Code!=\"D43\")\n",
    "crimedata = subset(crimedata, Offence.Subgroup.Code!=\"D31\")\n",
    "crimedata = subset(crimedata, Offence.Subgroup.Code!=\"D44\")\n",
    "crimedata = subset(crimedata, Offence.Subgroup.Code!=\"D41\")\n",
    "crimedata = subset(crimedata, Offence.Subgroup.Code!=\"D34\")\n",
    "crimedata = subset(crimedata, Offence.Subgroup.Code!=\"D42\")"
   ]
  },
  {
   "cell_type": "code",
   "execution_count": 13,
   "metadata": {},
   "outputs": [
    {
     "data": {
      "text/html": [
       "<table>\n",
       "<thead><tr><th scope=col>Offence.Subgroup</th><th scope=col>freq</th></tr></thead>\n",
       "<tbody>\n",
       "\t<tr><td>A212 Non-FV Serious assault                             </td><td>7654                                                    </td></tr>\n",
       "\t<tr><td>A232 Non-FV Common assault                              </td><td>6589                                                    </td></tr>\n",
       "\t<tr><td>A712 Non-FV Stalking                                    </td><td>3342                                                    </td></tr>\n",
       "\t<tr><td>A722 Non-FV Harassment and private nuisance             </td><td>2075                                                    </td></tr>\n",
       "\t<tr><td>A732 Non-FV Threatening behaviour                       </td><td>4361                                                    </td></tr>\n",
       "\t<tr><td>A81 Dangerous driving                                   </td><td>1730                                                    </td></tr>\n",
       "\t<tr><td>A83 Throw or discharge object endangering people        </td><td>2791                                                    </td></tr>\n",
       "\t<tr><td>A89 Other dangerous or negligent acts endangering people</td><td>5209                                                    </td></tr>\n",
       "\t<tr><td>D21 Riot and affray                                     </td><td>1505                                                    </td></tr>\n",
       "\t<tr><td>D22 Drunk and disorderly in public                      </td><td>5271                                                    </td></tr>\n",
       "\t<tr><td>D23 Offensive conduct                                   </td><td>4513                                                    </td></tr>\n",
       "\t<tr><td>D24 Offensive language                                  </td><td>2502                                                    </td></tr>\n",
       "\t<tr><td>D26 Disorderly conduct                                  </td><td> 993                                                    </td></tr>\n",
       "\t<tr><td>D32 Hoaxes                                              </td><td> 803                                                    </td></tr>\n",
       "\t<tr><td>D35 Improper movement on public or private space        </td><td>3651                                                    </td></tr>\n",
       "\t<tr><td>D36 Other public nuisance offences                      </td><td> 767                                                    </td></tr>\n",
       "\t<tr><td>D49 Other public security offences                      </td><td>  17                                                    </td></tr>\n",
       "</tbody>\n",
       "</table>\n"
      ],
      "text/latex": [
       "\\begin{tabular}{r|ll}\n",
       " Offence.Subgroup & freq\\\\\n",
       "\\hline\n",
       "\t A212 Non-FV Serious assault                              & 7654                                                    \\\\\n",
       "\t A232 Non-FV Common assault                               & 6589                                                    \\\\\n",
       "\t A712 Non-FV Stalking                                     & 3342                                                    \\\\\n",
       "\t A722 Non-FV Harassment and private nuisance              & 2075                                                    \\\\\n",
       "\t A732 Non-FV Threatening behaviour                        & 4361                                                    \\\\\n",
       "\t A81 Dangerous driving                                    & 1730                                                    \\\\\n",
       "\t A83 Throw or discharge object endangering people         & 2791                                                    \\\\\n",
       "\t A89 Other dangerous or negligent acts endangering people & 5209                                                    \\\\\n",
       "\t D21 Riot and affray                                      & 1505                                                    \\\\\n",
       "\t D22 Drunk and disorderly in public                       & 5271                                                    \\\\\n",
       "\t D23 Offensive conduct                                    & 4513                                                    \\\\\n",
       "\t D24 Offensive language                                   & 2502                                                    \\\\\n",
       "\t D26 Disorderly conduct                                   &  993                                                    \\\\\n",
       "\t D32 Hoaxes                                               &  803                                                    \\\\\n",
       "\t D35 Improper movement on public or private space         & 3651                                                    \\\\\n",
       "\t D36 Other public nuisance offences                       &  767                                                    \\\\\n",
       "\t D49 Other public security offences                       &   17                                                    \\\\\n",
       "\\end{tabular}\n"
      ],
      "text/markdown": [
       "\n",
       "Offence.Subgroup | freq | \n",
       "|---|---|---|---|---|---|---|---|---|---|---|---|---|---|---|---|---|\n",
       "| A212 Non-FV Serious assault                              | 7654                                                     | \n",
       "| A232 Non-FV Common assault                               | 6589                                                     | \n",
       "| A712 Non-FV Stalking                                     | 3342                                                     | \n",
       "| A722 Non-FV Harassment and private nuisance              | 2075                                                     | \n",
       "| A732 Non-FV Threatening behaviour                        | 4361                                                     | \n",
       "| A81 Dangerous driving                                    | 1730                                                     | \n",
       "| A83 Throw or discharge object endangering people         | 2791                                                     | \n",
       "| A89 Other dangerous or negligent acts endangering people | 5209                                                     | \n",
       "| D21 Riot and affray                                      | 1505                                                     | \n",
       "| D22 Drunk and disorderly in public                       | 5271                                                     | \n",
       "| D23 Offensive conduct                                    | 4513                                                     | \n",
       "| D24 Offensive language                                   | 2502                                                     | \n",
       "| D26 Disorderly conduct                                   |  993                                                     | \n",
       "| D32 Hoaxes                                               |  803                                                     | \n",
       "| D35 Improper movement on public or private space         | 3651                                                     | \n",
       "| D36 Other public nuisance offences                       |  767                                                     | \n",
       "| D49 Other public security offences                       |   17                                                     | \n",
       "\n",
       "\n"
      ],
      "text/plain": [
       "   Offence.Subgroup                                         freq\n",
       "1  A212 Non-FV Serious assault                              7654\n",
       "2  A232 Non-FV Common assault                               6589\n",
       "3  A712 Non-FV Stalking                                     3342\n",
       "4  A722 Non-FV Harassment and private nuisance              2075\n",
       "5  A732 Non-FV Threatening behaviour                        4361\n",
       "6  A81 Dangerous driving                                    1730\n",
       "7  A83 Throw or discharge object endangering people         2791\n",
       "8  A89 Other dangerous or negligent acts endangering people 5209\n",
       "9  D21 Riot and affray                                      1505\n",
       "10 D22 Drunk and disorderly in public                       5271\n",
       "11 D23 Offensive conduct                                    4513\n",
       "12 D24 Offensive language                                   2502\n",
       "13 D26 Disorderly conduct                                    993\n",
       "14 D32 Hoaxes                                                803\n",
       "15 D35 Improper movement on public or private space         3651\n",
       "16 D36 Other public nuisance offences                        767\n",
       "17 D49 Other public security offences                         17"
      ]
     },
     "metadata": {},
     "output_type": "display_data"
    }
   ],
   "source": [
    "count(crimedata, 'Offence.Subgroup')"
   ]
  },
  {
   "cell_type": "markdown",
   "metadata": {},
   "source": [
    "# Calculate weights for each crime based on severity"
   ]
  },
  {
   "cell_type": "code",
   "execution_count": 14,
   "metadata": {},
   "outputs": [],
   "source": [
    "crime_processed<-data.frame(crimedata)"
   ]
  },
  {
   "cell_type": "code",
   "execution_count": 15,
   "metadata": {
    "scrolled": true
   },
   "outputs": [
    {
     "data": {
      "text/html": [
       "<table>\n",
       "<thead><tr><th></th><th scope=col>Year.ending.March</th><th scope=col>Postcode</th><th scope=col>Suburb.Town.Name</th><th scope=col>Offence.Division</th><th scope=col>Offence.Subdivision</th><th scope=col>Offence.Subgroup</th><th scope=col>Offence.Subgroup.Code</th><th scope=col>Offence.Subgroup.Name</th><th scope=col>Incidents.Recorded</th></tr></thead>\n",
       "<tbody>\n",
       "\t<tr><th scope=row>1</th><td>2018                                              </td><td>3000                                              </td><td>MELBOURNE                                         </td><td>A Crimes against the person                       </td><td>A20 Assault and related offences                  </td><td>A232 Non-FV Common assault                        </td><td>A232                                              </td><td>Non-FV Common assault                             </td><td>646                                               </td></tr>\n",
       "\t<tr><th scope=row>3</th><td>2018                                              </td><td>3000                                              </td><td>MELBOURNE                                         </td><td>A Crimes against the person                       </td><td>A20 Assault and related offences                  </td><td>A212 Non-FV Serious assault                       </td><td>A212                                              </td><td>Non-FV Serious assault                            </td><td>601                                               </td></tr>\n",
       "\t<tr><th scope=row>8</th><td>2018                                              </td><td>3000                                              </td><td>MELBOURNE                                         </td><td>A Crimes against the person                       </td><td>A70 Stalking, harassment and threatening behaviour</td><td>A732 Non-FV Threatening behaviour                 </td><td>A732                                              </td><td>Non-FV Threatening behaviour                      </td><td> 75                                               </td></tr>\n",
       "\t<tr><th scope=row>10</th><td>2018                                              </td><td>3000                                              </td><td>MELBOURNE                                         </td><td>A Crimes against the person                       </td><td>A70 Stalking, harassment and threatening behaviour</td><td>A722 Non-FV Harassment and private nuisance       </td><td>A722                                              </td><td>Non-FV Harassment and private nuisance            </td><td> 20                                               </td></tr>\n",
       "\t<tr><th scope=row>12</th><td>2018                                              </td><td>3000                                              </td><td>MELBOURNE                                         </td><td>A Crimes against the person                       </td><td>A70 Stalking, harassment and threatening behaviour</td><td>A712 Non-FV Stalking                              </td><td>A712                                              </td><td>Non-FV Stalking                                   </td><td> 21                                               </td></tr>\n",
       "</tbody>\n",
       "</table>\n"
      ],
      "text/latex": [
       "\\begin{tabular}{r|lllllllll}\n",
       "  & Year.ending.March & Postcode & Suburb.Town.Name & Offence.Division & Offence.Subdivision & Offence.Subgroup & Offence.Subgroup.Code & Offence.Subgroup.Name & Incidents.Recorded\\\\\n",
       "\\hline\n",
       "\t1 & 2018                                               & 3000                                               & MELBOURNE                                          & A Crimes against the person                        & A20 Assault and related offences                   & A232 Non-FV Common assault                         & A232                                               & Non-FV Common assault                              & 646                                               \\\\\n",
       "\t3 & 2018                                               & 3000                                               & MELBOURNE                                          & A Crimes against the person                        & A20 Assault and related offences                   & A212 Non-FV Serious assault                        & A212                                               & Non-FV Serious assault                             & 601                                               \\\\\n",
       "\t8 & 2018                                               & 3000                                               & MELBOURNE                                          & A Crimes against the person                        & A70 Stalking, harassment and threatening behaviour & A732 Non-FV Threatening behaviour                  & A732                                               & Non-FV Threatening behaviour                       &  75                                               \\\\\n",
       "\t10 & 2018                                               & 3000                                               & MELBOURNE                                          & A Crimes against the person                        & A70 Stalking, harassment and threatening behaviour & A722 Non-FV Harassment and private nuisance        & A722                                               & Non-FV Harassment and private nuisance             &  20                                               \\\\\n",
       "\t12 & 2018                                               & 3000                                               & MELBOURNE                                          & A Crimes against the person                        & A70 Stalking, harassment and threatening behaviour & A712 Non-FV Stalking                               & A712                                               & Non-FV Stalking                                    &  21                                               \\\\\n",
       "\\end{tabular}\n"
      ],
      "text/markdown": [
       "\n",
       "| <!--/--> | Year.ending.March | Postcode | Suburb.Town.Name | Offence.Division | Offence.Subdivision | Offence.Subgroup | Offence.Subgroup.Code | Offence.Subgroup.Name | Incidents.Recorded | \n",
       "|---|---|---|---|---|\n",
       "| 1 | 2018                                               | 3000                                               | MELBOURNE                                          | A Crimes against the person                        | A20 Assault and related offences                   | A232 Non-FV Common assault                         | A232                                               | Non-FV Common assault                              | 646                                                | \n",
       "| 3 | 2018                                               | 3000                                               | MELBOURNE                                          | A Crimes against the person                        | A20 Assault and related offences                   | A212 Non-FV Serious assault                        | A212                                               | Non-FV Serious assault                             | 601                                                | \n",
       "| 8 | 2018                                               | 3000                                               | MELBOURNE                                          | A Crimes against the person                        | A70 Stalking, harassment and threatening behaviour | A732 Non-FV Threatening behaviour                  | A732                                               | Non-FV Threatening behaviour                       |  75                                                | \n",
       "| 10 | 2018                                               | 3000                                               | MELBOURNE                                          | A Crimes against the person                        | A70 Stalking, harassment and threatening behaviour | A722 Non-FV Harassment and private nuisance        | A722                                               | Non-FV Harassment and private nuisance             |  20                                                | \n",
       "| 12 | 2018                                               | 3000                                               | MELBOURNE                                          | A Crimes against the person                        | A70 Stalking, harassment and threatening behaviour | A712 Non-FV Stalking                               | A712                                               | Non-FV Stalking                                    |  21                                                | \n",
       "\n",
       "\n"
      ],
      "text/plain": [
       "   Year.ending.March Postcode Suburb.Town.Name Offence.Division           \n",
       "1  2018              3000     MELBOURNE        A Crimes against the person\n",
       "3  2018              3000     MELBOURNE        A Crimes against the person\n",
       "8  2018              3000     MELBOURNE        A Crimes against the person\n",
       "10 2018              3000     MELBOURNE        A Crimes against the person\n",
       "12 2018              3000     MELBOURNE        A Crimes against the person\n",
       "   Offence.Subdivision                               \n",
       "1  A20 Assault and related offences                  \n",
       "3  A20 Assault and related offences                  \n",
       "8  A70 Stalking, harassment and threatening behaviour\n",
       "10 A70 Stalking, harassment and threatening behaviour\n",
       "12 A70 Stalking, harassment and threatening behaviour\n",
       "   Offence.Subgroup                            Offence.Subgroup.Code\n",
       "1  A232 Non-FV Common assault                  A232                 \n",
       "3  A212 Non-FV Serious assault                 A212                 \n",
       "8  A732 Non-FV Threatening behaviour           A732                 \n",
       "10 A722 Non-FV Harassment and private nuisance A722                 \n",
       "12 A712 Non-FV Stalking                        A712                 \n",
       "   Offence.Subgroup.Name                  Incidents.Recorded\n",
       "1  Non-FV Common assault                  646               \n",
       "3  Non-FV Serious assault                 601               \n",
       "8  Non-FV Threatening behaviour            75               \n",
       "10 Non-FV Harassment and private nuisance  20               \n",
       "12 Non-FV Stalking                         21               "
      ]
     },
     "metadata": {},
     "output_type": "display_data"
    }
   ],
   "source": [
    "head(crime_processed, n=5)"
   ]
  },
  {
   "cell_type": "code",
   "execution_count": 16,
   "metadata": {},
   "outputs": [],
   "source": [
    "for (row in 1:nrow(crime_processed)) {\n",
    "    crime <- crime_processed[row, \"Offence.Subgroup.Code\"]    \n",
    "    if (crime == \"A212\") {\n",
    "    result <- 10\n",
    "    } else if (crime == \"A232\") {\n",
    "    result <- 10\n",
    "    } else if (crime == \"D22\") {\n",
    "    result <- 4\n",
    "    } else if (crime == \"A89\") {\n",
    "    result <- 7\n",
    "    } else if (crime == \"D23\") {\n",
    "    result <- 5\n",
    "    } else if (crime == \"A732\") {\n",
    "    result <- 7\n",
    "    } else if (crime == \"D35\") {\n",
    "    result <- 4\n",
    "    } else if (crime == \"A712\") {\n",
    "    result <- 10\n",
    "    } else if (crime == \"A83\") {\n",
    "    result <- 7\n",
    "    } else if (crime == \"D24\") {\n",
    "    result <- 3\n",
    "    } else if (crime == \"A722\") {\n",
    "    result <- 8\n",
    "    } else if (crime == \"A81\") {\n",
    "    result <- 7\n",
    "    } else if (crime == \"D21\") {\n",
    "    result <- 10\n",
    "    } else if (crime == \"D13\") {\n",
    "    result <- 6\n",
    "    } else if (crime == \"D26\") {\n",
    "    result <- 5\n",
    "    } else if (crime == \"D32\") {\n",
    "    result <- 7\n",
    "    } else if (crime == \"D36\") {\n",
    "    result <- 7\n",
    "    } else {\n",
    "    result <- 7\n",
    "    }\n",
    "    crime_processed[row, \"Crime.Severity\"] = result\n",
    "}"
   ]
  },
  {
   "cell_type": "code",
   "execution_count": 17,
   "metadata": {},
   "outputs": [
    {
     "data": {
      "text/html": [
       "<table>\n",
       "<thead><tr><th></th><th scope=col>Year.ending.March</th><th scope=col>Postcode</th><th scope=col>Suburb.Town.Name</th><th scope=col>Offence.Division</th><th scope=col>Offence.Subdivision</th><th scope=col>Offence.Subgroup</th><th scope=col>Offence.Subgroup.Code</th><th scope=col>Offence.Subgroup.Name</th><th scope=col>Incidents.Recorded</th><th scope=col>Crime.Severity</th></tr></thead>\n",
       "<tbody>\n",
       "\t<tr><th scope=row>1</th><td>2018                                              </td><td>3000                                              </td><td>MELBOURNE                                         </td><td>A Crimes against the person                       </td><td>A20 Assault and related offences                  </td><td>A232 Non-FV Common assault                        </td><td>A232                                              </td><td>Non-FV Common assault                             </td><td>646                                               </td><td>10                                                </td></tr>\n",
       "\t<tr><th scope=row>3</th><td>2018                                              </td><td>3000                                              </td><td>MELBOURNE                                         </td><td>A Crimes against the person                       </td><td>A20 Assault and related offences                  </td><td>A212 Non-FV Serious assault                       </td><td>A212                                              </td><td>Non-FV Serious assault                            </td><td>601                                               </td><td>10                                                </td></tr>\n",
       "\t<tr><th scope=row>8</th><td>2018                                              </td><td>3000                                              </td><td>MELBOURNE                                         </td><td>A Crimes against the person                       </td><td>A70 Stalking, harassment and threatening behaviour</td><td>A732 Non-FV Threatening behaviour                 </td><td>A732                                              </td><td>Non-FV Threatening behaviour                      </td><td> 75                                               </td><td> 7                                                </td></tr>\n",
       "\t<tr><th scope=row>10</th><td>2018                                              </td><td>3000                                              </td><td>MELBOURNE                                         </td><td>A Crimes against the person                       </td><td>A70 Stalking, harassment and threatening behaviour</td><td>A722 Non-FV Harassment and private nuisance       </td><td>A722                                              </td><td>Non-FV Harassment and private nuisance            </td><td> 20                                               </td><td> 8                                                </td></tr>\n",
       "\t<tr><th scope=row>12</th><td>2018                                              </td><td>3000                                              </td><td>MELBOURNE                                         </td><td>A Crimes against the person                       </td><td>A70 Stalking, harassment and threatening behaviour</td><td>A712 Non-FV Stalking                              </td><td>A712                                              </td><td>Non-FV Stalking                                   </td><td> 21                                               </td><td>10                                                </td></tr>\n",
       "</tbody>\n",
       "</table>\n"
      ],
      "text/latex": [
       "\\begin{tabular}{r|llllllllll}\n",
       "  & Year.ending.March & Postcode & Suburb.Town.Name & Offence.Division & Offence.Subdivision & Offence.Subgroup & Offence.Subgroup.Code & Offence.Subgroup.Name & Incidents.Recorded & Crime.Severity\\\\\n",
       "\\hline\n",
       "\t1 & 2018                                               & 3000                                               & MELBOURNE                                          & A Crimes against the person                        & A20 Assault and related offences                   & A232 Non-FV Common assault                         & A232                                               & Non-FV Common assault                              & 646                                                & 10                                                \\\\\n",
       "\t3 & 2018                                               & 3000                                               & MELBOURNE                                          & A Crimes against the person                        & A20 Assault and related offences                   & A212 Non-FV Serious assault                        & A212                                               & Non-FV Serious assault                             & 601                                                & 10                                                \\\\\n",
       "\t8 & 2018                                               & 3000                                               & MELBOURNE                                          & A Crimes against the person                        & A70 Stalking, harassment and threatening behaviour & A732 Non-FV Threatening behaviour                  & A732                                               & Non-FV Threatening behaviour                       &  75                                                &  7                                                \\\\\n",
       "\t10 & 2018                                               & 3000                                               & MELBOURNE                                          & A Crimes against the person                        & A70 Stalking, harassment and threatening behaviour & A722 Non-FV Harassment and private nuisance        & A722                                               & Non-FV Harassment and private nuisance             &  20                                                &  8                                                \\\\\n",
       "\t12 & 2018                                               & 3000                                               & MELBOURNE                                          & A Crimes against the person                        & A70 Stalking, harassment and threatening behaviour & A712 Non-FV Stalking                               & A712                                               & Non-FV Stalking                                    &  21                                                & 10                                                \\\\\n",
       "\\end{tabular}\n"
      ],
      "text/markdown": [
       "\n",
       "| <!--/--> | Year.ending.March | Postcode | Suburb.Town.Name | Offence.Division | Offence.Subdivision | Offence.Subgroup | Offence.Subgroup.Code | Offence.Subgroup.Name | Incidents.Recorded | Crime.Severity | \n",
       "|---|---|---|---|---|\n",
       "| 1 | 2018                                               | 3000                                               | MELBOURNE                                          | A Crimes against the person                        | A20 Assault and related offences                   | A232 Non-FV Common assault                         | A232                                               | Non-FV Common assault                              | 646                                                | 10                                                 | \n",
       "| 3 | 2018                                               | 3000                                               | MELBOURNE                                          | A Crimes against the person                        | A20 Assault and related offences                   | A212 Non-FV Serious assault                        | A212                                               | Non-FV Serious assault                             | 601                                                | 10                                                 | \n",
       "| 8 | 2018                                               | 3000                                               | MELBOURNE                                          | A Crimes against the person                        | A70 Stalking, harassment and threatening behaviour | A732 Non-FV Threatening behaviour                  | A732                                               | Non-FV Threatening behaviour                       |  75                                                |  7                                                 | \n",
       "| 10 | 2018                                               | 3000                                               | MELBOURNE                                          | A Crimes against the person                        | A70 Stalking, harassment and threatening behaviour | A722 Non-FV Harassment and private nuisance        | A722                                               | Non-FV Harassment and private nuisance             |  20                                                |  8                                                 | \n",
       "| 12 | 2018                                               | 3000                                               | MELBOURNE                                          | A Crimes against the person                        | A70 Stalking, harassment and threatening behaviour | A712 Non-FV Stalking                               | A712                                               | Non-FV Stalking                                    |  21                                                | 10                                                 | \n",
       "\n",
       "\n"
      ],
      "text/plain": [
       "   Year.ending.March Postcode Suburb.Town.Name Offence.Division           \n",
       "1  2018              3000     MELBOURNE        A Crimes against the person\n",
       "3  2018              3000     MELBOURNE        A Crimes against the person\n",
       "8  2018              3000     MELBOURNE        A Crimes against the person\n",
       "10 2018              3000     MELBOURNE        A Crimes against the person\n",
       "12 2018              3000     MELBOURNE        A Crimes against the person\n",
       "   Offence.Subdivision                               \n",
       "1  A20 Assault and related offences                  \n",
       "3  A20 Assault and related offences                  \n",
       "8  A70 Stalking, harassment and threatening behaviour\n",
       "10 A70 Stalking, harassment and threatening behaviour\n",
       "12 A70 Stalking, harassment and threatening behaviour\n",
       "   Offence.Subgroup                            Offence.Subgroup.Code\n",
       "1  A232 Non-FV Common assault                  A232                 \n",
       "3  A212 Non-FV Serious assault                 A212                 \n",
       "8  A732 Non-FV Threatening behaviour           A732                 \n",
       "10 A722 Non-FV Harassment and private nuisance A722                 \n",
       "12 A712 Non-FV Stalking                        A712                 \n",
       "   Offence.Subgroup.Name                  Incidents.Recorded Crime.Severity\n",
       "1  Non-FV Common assault                  646                10            \n",
       "3  Non-FV Serious assault                 601                10            \n",
       "8  Non-FV Threatening behaviour            75                 7            \n",
       "10 Non-FV Harassment and private nuisance  20                 8            \n",
       "12 Non-FV Stalking                         21                10            "
      ]
     },
     "metadata": {},
     "output_type": "display_data"
    }
   ],
   "source": [
    "head(crime_processed, n=5)"
   ]
  },
  {
   "cell_type": "code",
   "execution_count": 18,
   "metadata": {},
   "outputs": [],
   "source": [
    "crime_processed = subset(crime_processed, Year.ending.March==2018)"
   ]
  },
  {
   "cell_type": "code",
   "execution_count": 19,
   "metadata": {},
   "outputs": [],
   "source": [
    "# Function to calculate severity score per postcode\n",
    "\n",
    "for (row in 1:nrow(crime_processed)) {\n",
    "    crime_processed[row, \"Severity.Total.Score\"] = crime_processed[row, \"Incidents.Recorded\"] * crime_processed[row, \"Crime.Severity\"]\n",
    "}"
   ]
  },
  {
   "cell_type": "code",
   "execution_count": 20,
   "metadata": {},
   "outputs": [
    {
     "data": {
      "text/html": [
       "<table>\n",
       "<thead><tr><th></th><th scope=col>Postcode</th><th scope=col>Severity.Total.Score</th></tr></thead>\n",
       "<tbody>\n",
       "\t<tr><th scope=row>1</th><td>3000</td><td>6460</td></tr>\n",
       "\t<tr><th scope=row>3</th><td>3000</td><td>6010</td></tr>\n",
       "\t<tr><th scope=row>8</th><td>3000</td><td> 525</td></tr>\n",
       "\t<tr><th scope=row>10</th><td>3000</td><td> 160</td></tr>\n",
       "\t<tr><th scope=row>12</th><td>3000</td><td> 210</td></tr>\n",
       "</tbody>\n",
       "</table>\n"
      ],
      "text/latex": [
       "\\begin{tabular}{r|ll}\n",
       "  & Postcode & Severity.Total.Score\\\\\n",
       "\\hline\n",
       "\t1 & 3000 & 6460\\\\\n",
       "\t3 & 3000 & 6010\\\\\n",
       "\t8 & 3000 &  525\\\\\n",
       "\t10 & 3000 &  160\\\\\n",
       "\t12 & 3000 &  210\\\\\n",
       "\\end{tabular}\n"
      ],
      "text/markdown": [
       "\n",
       "| <!--/--> | Postcode | Severity.Total.Score | \n",
       "|---|---|---|---|---|\n",
       "| 1 | 3000 | 6460 | \n",
       "| 3 | 3000 | 6010 | \n",
       "| 8 | 3000 |  525 | \n",
       "| 10 | 3000 |  160 | \n",
       "| 12 | 3000 |  210 | \n",
       "\n",
       "\n"
      ],
      "text/plain": [
       "   Postcode Severity.Total.Score\n",
       "1  3000     6460                \n",
       "3  3000     6010                \n",
       "8  3000      525                \n",
       "10 3000      160                \n",
       "12 3000      210                "
      ]
     },
     "metadata": {},
     "output_type": "display_data"
    }
   ],
   "source": [
    "keeps <- c(\"Postcode\", \"Severity.Total.Score\")\n",
    "crime_processed = crime_processed[keeps]\n",
    "head(crime_processed, n=5)"
   ]
  },
  {
   "cell_type": "code",
   "execution_count": 21,
   "metadata": {},
   "outputs": [
    {
     "data": {
      "text/html": [
       "<table>\n",
       "<thead><tr><th scope=col>Postcode</th><th scope=col>Severity.Total.Score</th></tr></thead>\n",
       "<tbody>\n",
       "\t<tr><td>3000 </td><td>22618</td></tr>\n",
       "\t<tr><td>3002 </td><td>  679</td></tr>\n",
       "\t<tr><td>3003 </td><td>  524</td></tr>\n",
       "\t<tr><td>3006 </td><td> 3326</td></tr>\n",
       "\t<tr><td>3008 </td><td> 2060</td></tr>\n",
       "</tbody>\n",
       "</table>\n"
      ],
      "text/latex": [
       "\\begin{tabular}{r|ll}\n",
       " Postcode & Severity.Total.Score\\\\\n",
       "\\hline\n",
       "\t 3000  & 22618\\\\\n",
       "\t 3002  &   679\\\\\n",
       "\t 3003  &   524\\\\\n",
       "\t 3006  &  3326\\\\\n",
       "\t 3008  &  2060\\\\\n",
       "\\end{tabular}\n"
      ],
      "text/markdown": [
       "\n",
       "Postcode | Severity.Total.Score | \n",
       "|---|---|---|---|---|\n",
       "| 3000  | 22618 | \n",
       "| 3002  |   679 | \n",
       "| 3003  |   524 | \n",
       "| 3006  |  3326 | \n",
       "| 3008  |  2060 | \n",
       "\n",
       "\n"
      ],
      "text/plain": [
       "  Postcode Severity.Total.Score\n",
       "1 3000     22618               \n",
       "2 3002       679               \n",
       "3 3003       524               \n",
       "4 3006      3326               \n",
       "5 3008      2060               "
      ]
     },
     "metadata": {},
     "output_type": "display_data"
    }
   ],
   "source": [
    "crime_processed = aggregate(Severity.Total.Score ~ Postcode, crime_processed, sum)\n",
    "colnames(crime_processed)[2] <- \"Severity.Total.Score\"\n",
    "head(crime_processed, n=5)"
   ]
  },
  {
   "cell_type": "markdown",
   "metadata": {},
   "source": [
    "# Join with postcodes to get average gps position of each postcode"
   ]
  },
  {
   "cell_type": "code",
   "execution_count": 22,
   "metadata": {},
   "outputs": [
    {
     "data": {
      "text/html": [
       "<table>\n",
       "<thead><tr><th scope=col>postcode</th><th scope=col>suburb</th><th scope=col>state</th><th scope=col>dc</th><th scope=col>type</th><th scope=col>lat</th><th scope=col>lon</th></tr></thead>\n",
       "<tbody>\n",
       "\t<tr><td>200                                          </td><td>AUSTRALIAN NATIONAL UNIVERSITY               </td><td>ACT                                          </td><td>AUSTRALIAN NATIONAL UNI LPO                  </td><td>Post Office Boxes                            </td><td>-35.27727                                    </td><td>149.1171                                     </td></tr>\n",
       "\t<tr><td>221                                          </td><td>BARTON                                       </td><td>ACT                                          </td><td>NULL                                         </td><td>LVR                                          </td><td>-35.20137                                    </td><td>149.0951                                     </td></tr>\n",
       "\t<tr><td>800                                          </td><td>DARWIN                                       </td><td>NT                                           </td><td>DARWIN DELIVERY CENTRE                       </td><td>Delivery Area                                </td><td>-12.80103                                    </td><td>130.9558                                     </td></tr>\n",
       "\t<tr><td>801                                          </td><td>DARWIN                                       </td><td>NT                                           </td><td>DARWIN DELIVERY CENTRE                       </td><td>Post Office Boxes                            </td><td>-12.80103                                    </td><td>130.9558                                     </td></tr>\n",
       "\t<tr><td>804                                          </td><td>PARAP                                        </td><td>NT                                           </td><td>PARAP                                        </td><td>Post Office Boxes                            </td><td>-12.43218                                    </td><td>130.8433                                     </td></tr>\n",
       "</tbody>\n",
       "</table>\n"
      ],
      "text/latex": [
       "\\begin{tabular}{r|lllllll}\n",
       " postcode & suburb & state & dc & type & lat & lon\\\\\n",
       "\\hline\n",
       "\t 200                                           & AUSTRALIAN NATIONAL UNIVERSITY                & ACT                                           & AUSTRALIAN NATIONAL UNI LPO                   & Post Office Boxes                             & -35.27727                                     & 149.1171                                     \\\\\n",
       "\t 221                                           & BARTON                                        & ACT                                           & NULL                                          & LVR                                           & -35.20137                                     & 149.0951                                     \\\\\n",
       "\t 800                                           & DARWIN                                        & NT                                            & DARWIN DELIVERY CENTRE                        & Delivery Area                                 & -12.80103                                     & 130.9558                                     \\\\\n",
       "\t 801                                           & DARWIN                                        & NT                                            & DARWIN DELIVERY CENTRE                        & Post Office Boxes                             & -12.80103                                     & 130.9558                                     \\\\\n",
       "\t 804                                           & PARAP                                         & NT                                            & PARAP                                         & Post Office Boxes                             & -12.43218                                     & 130.8433                                     \\\\\n",
       "\\end{tabular}\n"
      ],
      "text/markdown": [
       "\n",
       "postcode | suburb | state | dc | type | lat | lon | \n",
       "|---|---|---|---|---|\n",
       "| 200                                           | AUSTRALIAN NATIONAL UNIVERSITY                | ACT                                           | AUSTRALIAN NATIONAL UNI LPO                   | Post Office Boxes                             | -35.27727                                     | 149.1171                                      | \n",
       "| 221                                           | BARTON                                        | ACT                                           | NULL                                          | LVR                                           | -35.20137                                     | 149.0951                                      | \n",
       "| 800                                           | DARWIN                                        | NT                                            | DARWIN DELIVERY CENTRE                        | Delivery Area                                 | -12.80103                                     | 130.9558                                      | \n",
       "| 801                                           | DARWIN                                        | NT                                            | DARWIN DELIVERY CENTRE                        | Post Office Boxes                             | -12.80103                                     | 130.9558                                      | \n",
       "| 804                                           | PARAP                                         | NT                                            | PARAP                                         | Post Office Boxes                             | -12.43218                                     | 130.8433                                      | \n",
       "\n",
       "\n"
      ],
      "text/plain": [
       "  postcode suburb                         state dc                         \n",
       "1 200      AUSTRALIAN NATIONAL UNIVERSITY ACT   AUSTRALIAN NATIONAL UNI LPO\n",
       "2 221      BARTON                         ACT   NULL                       \n",
       "3 800      DARWIN                         NT    DARWIN DELIVERY CENTRE     \n",
       "4 801      DARWIN                         NT    DARWIN DELIVERY CENTRE     \n",
       "5 804      PARAP                          NT    PARAP                      \n",
       "  type                                          lat       lon     \n",
       "1 Post Office Boxes                             -35.27727 149.1171\n",
       "2 LVR                                           -35.20137 149.0951\n",
       "3 Delivery Area                                 -12.80103 130.9558\n",
       "4 Post Office Boxes                             -12.80103 130.9558\n",
       "5 Post Office Boxes                             -12.43218 130.8433"
      ]
     },
     "metadata": {},
     "output_type": "display_data"
    }
   ],
   "source": [
    "postcode_loc = read.csv(\"Australian_Post_Codes_Lat_Lon.csv\", header = TRUE, fileEncoding=\"UTF-8-BOM\")\n",
    "head(postcode_loc, n=5)"
   ]
  },
  {
   "cell_type": "code",
   "execution_count": 23,
   "metadata": {},
   "outputs": [
    {
     "data": {
      "text/html": [
       "<table>\n",
       "<thead><tr><th scope=col>Postcode</th><th scope=col>lat</th><th scope=col>lon</th></tr></thead>\n",
       "<tbody>\n",
       "\t<tr><td>200      </td><td>-35.27727</td><td>149.1171 </td></tr>\n",
       "\t<tr><td>221      </td><td>-35.20137</td><td>149.0951 </td></tr>\n",
       "\t<tr><td>800      </td><td>-12.80103</td><td>130.9558 </td></tr>\n",
       "\t<tr><td>801      </td><td>-12.80103</td><td>130.9558 </td></tr>\n",
       "\t<tr><td>804      </td><td>-12.43218</td><td>130.8433 </td></tr>\n",
       "</tbody>\n",
       "</table>\n"
      ],
      "text/latex": [
       "\\begin{tabular}{r|lll}\n",
       " Postcode & lat & lon\\\\\n",
       "\\hline\n",
       "\t 200       & -35.27727 & 149.1171 \\\\\n",
       "\t 221       & -35.20137 & 149.0951 \\\\\n",
       "\t 800       & -12.80103 & 130.9558 \\\\\n",
       "\t 801       & -12.80103 & 130.9558 \\\\\n",
       "\t 804       & -12.43218 & 130.8433 \\\\\n",
       "\\end{tabular}\n"
      ],
      "text/markdown": [
       "\n",
       "Postcode | lat | lon | \n",
       "|---|---|---|---|---|\n",
       "| 200       | -35.27727 | 149.1171  | \n",
       "| 221       | -35.20137 | 149.0951  | \n",
       "| 800       | -12.80103 | 130.9558  | \n",
       "| 801       | -12.80103 | 130.9558  | \n",
       "| 804       | -12.43218 | 130.8433  | \n",
       "\n",
       "\n"
      ],
      "text/plain": [
       "  Postcode lat       lon     \n",
       "1 200      -35.27727 149.1171\n",
       "2 221      -35.20137 149.0951\n",
       "3 800      -12.80103 130.9558\n",
       "4 801      -12.80103 130.9558\n",
       "5 804      -12.43218 130.8433"
      ]
     },
     "metadata": {},
     "output_type": "display_data"
    }
   ],
   "source": [
    "keeps <- c(\"postcode\", \"lat\", \"lon\")\n",
    "postcode_loc = postcode_loc[keeps]\n",
    "colnames(postcode_loc)[1] <- \"Postcode\"\n",
    "head(postcode_loc, n=5)"
   ]
  },
  {
   "cell_type": "code",
   "execution_count": 24,
   "metadata": {},
   "outputs": [
    {
     "data": {
      "text/html": [
       "<table>\n",
       "<thead><tr><th scope=col>Postcode</th><th scope=col>lat</th><th scope=col>lon</th><th scope=col>Severity.Total.Score</th></tr></thead>\n",
       "<tbody>\n",
       "\t<tr><td>3000     </td><td>-37.81456</td><td>144.9703 </td><td>22618    </td></tr>\n",
       "\t<tr><td>3002     </td><td>-37.81664</td><td>144.9878 </td><td>  679    </td></tr>\n",
       "\t<tr><td>3003     </td><td>-37.80626</td><td>144.9411 </td><td>  524    </td></tr>\n",
       "\t<tr><td>3006     </td><td>-37.82326</td><td>144.9659 </td><td> 3326    </td></tr>\n",
       "\t<tr><td>3008     </td><td>-37.81472</td><td>144.9480 </td><td> 2060    </td></tr>\n",
       "</tbody>\n",
       "</table>\n"
      ],
      "text/latex": [
       "\\begin{tabular}{r|llll}\n",
       " Postcode & lat & lon & Severity.Total.Score\\\\\n",
       "\\hline\n",
       "\t 3000      & -37.81456 & 144.9703  & 22618    \\\\\n",
       "\t 3002      & -37.81664 & 144.9878  &   679    \\\\\n",
       "\t 3003      & -37.80626 & 144.9411  &   524    \\\\\n",
       "\t 3006      & -37.82326 & 144.9659  &  3326    \\\\\n",
       "\t 3008      & -37.81472 & 144.9480  &  2060    \\\\\n",
       "\\end{tabular}\n"
      ],
      "text/markdown": [
       "\n",
       "Postcode | lat | lon | Severity.Total.Score | \n",
       "|---|---|---|---|---|\n",
       "| 3000      | -37.81456 | 144.9703  | 22618     | \n",
       "| 3002      | -37.81664 | 144.9878  |   679     | \n",
       "| 3003      | -37.80626 | 144.9411  |   524     | \n",
       "| 3006      | -37.82326 | 144.9659  |  3326     | \n",
       "| 3008      | -37.81472 | 144.9480  |  2060     | \n",
       "\n",
       "\n"
      ],
      "text/plain": [
       "  Postcode lat       lon      Severity.Total.Score\n",
       "1 3000     -37.81456 144.9703 22618               \n",
       "2 3002     -37.81664 144.9878   679               \n",
       "3 3003     -37.80626 144.9411   524               \n",
       "4 3006     -37.82326 144.9659  3326               \n",
       "5 3008     -37.81472 144.9480  2060               "
      ]
     },
     "metadata": {},
     "output_type": "display_data"
    }
   ],
   "source": [
    "crime_processed = merge(postcode_loc, crime_processed, by = \"Postcode\")\n",
    "head(crime_processed, n=5)"
   ]
  },
  {
   "cell_type": "code",
   "execution_count": 25,
   "metadata": {},
   "outputs": [
    {
     "data": {
      "text/html": [
       "<table>\n",
       "<thead><tr><th scope=col>c_lat</th><th scope=col>c_lon</th><th scope=col>Severity.Total.Score</th></tr></thead>\n",
       "<tbody>\n",
       "\t<tr><td>-37.81456</td><td>144.9703 </td><td>22618    </td></tr>\n",
       "\t<tr><td>-37.81664</td><td>144.9878 </td><td>  679    </td></tr>\n",
       "\t<tr><td>-37.80626</td><td>144.9411 </td><td>  524    </td></tr>\n",
       "\t<tr><td>-37.82326</td><td>144.9659 </td><td> 3326    </td></tr>\n",
       "\t<tr><td>-37.81472</td><td>144.9480 </td><td> 2060    </td></tr>\n",
       "</tbody>\n",
       "</table>\n"
      ],
      "text/latex": [
       "\\begin{tabular}{r|lll}\n",
       " c\\_lat & c\\_lon & Severity.Total.Score\\\\\n",
       "\\hline\n",
       "\t -37.81456 & 144.9703  & 22618    \\\\\n",
       "\t -37.81664 & 144.9878  &   679    \\\\\n",
       "\t -37.80626 & 144.9411  &   524    \\\\\n",
       "\t -37.82326 & 144.9659  &  3326    \\\\\n",
       "\t -37.81472 & 144.9480  &  2060    \\\\\n",
       "\\end{tabular}\n"
      ],
      "text/markdown": [
       "\n",
       "c_lat | c_lon | Severity.Total.Score | \n",
       "|---|---|---|---|---|\n",
       "| -37.81456 | 144.9703  | 22618     | \n",
       "| -37.81664 | 144.9878  |   679     | \n",
       "| -37.80626 | 144.9411  |   524     | \n",
       "| -37.82326 | 144.9659  |  3326     | \n",
       "| -37.81472 | 144.9480  |  2060     | \n",
       "\n",
       "\n"
      ],
      "text/plain": [
       "  c_lat     c_lon    Severity.Total.Score\n",
       "1 -37.81456 144.9703 22618               \n",
       "2 -37.81664 144.9878   679               \n",
       "3 -37.80626 144.9411   524               \n",
       "4 -37.82326 144.9659  3326               \n",
       "5 -37.81472 144.9480  2060               "
      ]
     },
     "metadata": {},
     "output_type": "display_data"
    }
   ],
   "source": [
    "keeps <- c(\"lat\", \"lon\", \"Severity.Total.Score\")\n",
    "crime_processed = crime_processed[keeps]\n",
    "colnames(crime_processed)[1] <- \"c_lat\"\n",
    "colnames(crime_processed)[2] <- \"c_lon\"\n",
    "head(crime_processed, n=5)"
   ]
  },
  {
   "cell_type": "code",
   "execution_count": 26,
   "metadata": {},
   "outputs": [],
   "source": [
    "write.csv(crime_processed, file = \"crime_processed_unweighted_r.csv\")"
   ]
  },
  {
   "cell_type": "markdown",
   "metadata": {},
   "source": [
    "# Import Tram Data"
   ]
  },
  {
   "cell_type": "code",
   "execution_count": 27,
   "metadata": {},
   "outputs": [
    {
     "data": {
      "text/html": [
       "<table>\n",
       "<thead><tr><th scope=col>StopLocationID</th><th scope=col>StopNameShort</th><th scope=col>StopNameLong</th><th scope=col>StopType</th><th scope=col>SuburbName</th><th scope=col>PostCode</th><th scope=col>RegionName</th><th scope=col>LocalGovernmentArea</th><th scope=col>StatDivision</th><th scope=col>lat</th><th scope=col>lon</th></tr></thead>\n",
       "<tbody>\n",
       "\t<tr><td>867                                         </td><td>Weemala Court                               </td><td>Weemala Ct/Plenty River Dr (Greensborough)  </td><td>Kerbside                                    </td><td>Greensborough                               </td><td>3088                                        </td><td>Melbourne                                   </td><td>Banyule                                     </td><td>Greater Metro                               </td><td>-37.68960                                   </td><td>145.1051                                    </td></tr>\n",
       "\t<tr><td>868                                         </td><td>Crana Grove                                 </td><td>Crana Gr/Plenty River Dr (Greensborough)    </td><td>Kerbside                                    </td><td>Greensborough                               </td><td>3088                                        </td><td>Melbourne                                   </td><td>Banyule                                     </td><td>Greater Metro                               </td><td>-37.68674                                   </td><td>145.1056                                    </td></tr>\n",
       "\t<tr><td>869                                         </td><td>Punkerri Circuit                            </td><td>Punkerri Cct/Plenty River Dr (Greensborough)</td><td>Kerbside                                    </td><td>Greensborough                               </td><td>3088                                        </td><td>Melbourne                                   </td><td>Banyule                                     </td><td>Greater Metro                               </td><td>-37.68364                                   </td><td>145.1087                                    </td></tr>\n",
       "\t<tr><td>870                                         </td><td>Plenty River Drive                          </td><td>231 Plenty River Dr (Greensborough)         </td><td>Kerbside                                    </td><td>Greensborough                               </td><td>3088                                        </td><td>Melbourne                                   </td><td>Banyule                                     </td><td>Greater Metro                               </td><td>-37.68259                                   </td><td>145.1113                                    </td></tr>\n",
       "\t<tr><td>875                                         </td><td>Oldstead Rd                                 </td><td>Oldstead Rd/Diamond Creek Rd (Greensborough)</td><td>Kerbside                                    </td><td>Greensborough                               </td><td>3088                                        </td><td>Melbourne                                   </td><td>Banyule                                     </td><td>Greater Metro                               </td><td>-37.68534                                   </td><td>145.1173                                    </td></tr>\n",
       "</tbody>\n",
       "</table>\n"
      ],
      "text/latex": [
       "\\begin{tabular}{r|lllllllllll}\n",
       " StopLocationID & StopNameShort & StopNameLong & StopType & SuburbName & PostCode & RegionName & LocalGovernmentArea & StatDivision & lat & lon\\\\\n",
       "\\hline\n",
       "\t 867                                          & Weemala Court                                & Weemala Ct/Plenty River Dr (Greensborough)   & Kerbside                                     & Greensborough                                & 3088                                         & Melbourne                                    & Banyule                                      & Greater Metro                                & -37.68960                                    & 145.1051                                    \\\\\n",
       "\t 868                                          & Crana Grove                                  & Crana Gr/Plenty River Dr (Greensborough)     & Kerbside                                     & Greensborough                                & 3088                                         & Melbourne                                    & Banyule                                      & Greater Metro                                & -37.68674                                    & 145.1056                                    \\\\\n",
       "\t 869                                          & Punkerri Circuit                             & Punkerri Cct/Plenty River Dr (Greensborough) & Kerbside                                     & Greensborough                                & 3088                                         & Melbourne                                    & Banyule                                      & Greater Metro                                & -37.68364                                    & 145.1087                                    \\\\\n",
       "\t 870                                          & Plenty River Drive                           & 231 Plenty River Dr (Greensborough)          & Kerbside                                     & Greensborough                                & 3088                                         & Melbourne                                    & Banyule                                      & Greater Metro                                & -37.68259                                    & 145.1113                                    \\\\\n",
       "\t 875                                          & Oldstead Rd                                  & Oldstead Rd/Diamond Creek Rd (Greensborough) & Kerbside                                     & Greensborough                                & 3088                                         & Melbourne                                    & Banyule                                      & Greater Metro                                & -37.68534                                    & 145.1173                                    \\\\\n",
       "\\end{tabular}\n"
      ],
      "text/markdown": [
       "\n",
       "StopLocationID | StopNameShort | StopNameLong | StopType | SuburbName | PostCode | RegionName | LocalGovernmentArea | StatDivision | lat | lon | \n",
       "|---|---|---|---|---|\n",
       "| 867                                          | Weemala Court                                | Weemala Ct/Plenty River Dr (Greensborough)   | Kerbside                                     | Greensborough                                | 3088                                         | Melbourne                                    | Banyule                                      | Greater Metro                                | -37.68960                                    | 145.1051                                     | \n",
       "| 868                                          | Crana Grove                                  | Crana Gr/Plenty River Dr (Greensborough)     | Kerbside                                     | Greensborough                                | 3088                                         | Melbourne                                    | Banyule                                      | Greater Metro                                | -37.68674                                    | 145.1056                                     | \n",
       "| 869                                          | Punkerri Circuit                             | Punkerri Cct/Plenty River Dr (Greensborough) | Kerbside                                     | Greensborough                                | 3088                                         | Melbourne                                    | Banyule                                      | Greater Metro                                | -37.68364                                    | 145.1087                                     | \n",
       "| 870                                          | Plenty River Drive                           | 231 Plenty River Dr (Greensborough)          | Kerbside                                     | Greensborough                                | 3088                                         | Melbourne                                    | Banyule                                      | Greater Metro                                | -37.68259                                    | 145.1113                                     | \n",
       "| 875                                          | Oldstead Rd                                  | Oldstead Rd/Diamond Creek Rd (Greensborough) | Kerbside                                     | Greensborough                                | 3088                                         | Melbourne                                    | Banyule                                      | Greater Metro                                | -37.68534                                    | 145.1173                                     | \n",
       "\n",
       "\n"
      ],
      "text/plain": [
       "  StopLocationID StopNameShort     \n",
       "1 867            Weemala Court     \n",
       "2 868            Crana Grove       \n",
       "3 869            Punkerri Circuit  \n",
       "4 870            Plenty River Drive\n",
       "5 875            Oldstead Rd       \n",
       "  StopNameLong                                 StopType SuburbName    PostCode\n",
       "1 Weemala Ct/Plenty River Dr (Greensborough)   Kerbside Greensborough 3088    \n",
       "2 Crana Gr/Plenty River Dr (Greensborough)     Kerbside Greensborough 3088    \n",
       "3 Punkerri Cct/Plenty River Dr (Greensborough) Kerbside Greensborough 3088    \n",
       "4 231 Plenty River Dr (Greensborough)          Kerbside Greensborough 3088    \n",
       "5 Oldstead Rd/Diamond Creek Rd (Greensborough) Kerbside Greensborough 3088    \n",
       "  RegionName LocalGovernmentArea StatDivision  lat       lon     \n",
       "1 Melbourne  Banyule             Greater Metro -37.68960 145.1051\n",
       "2 Melbourne  Banyule             Greater Metro -37.68674 145.1056\n",
       "3 Melbourne  Banyule             Greater Metro -37.68364 145.1087\n",
       "4 Melbourne  Banyule             Greater Metro -37.68259 145.1113\n",
       "5 Melbourne  Banyule             Greater Metro -37.68534 145.1173"
      ]
     },
     "metadata": {},
     "output_type": "display_data"
    }
   ],
   "source": [
    "tramdata = read.csv('stop_locations.txt', header = FALSE, sep = \"|\", fileEncoding=\"UTF-8-BOM\")\n",
    "names(tramdata) <- c(\"StopLocationID\",\"StopNameShort\",\"StopNameLong\",\"StopType\",\"SuburbName\",\"PostCode\",\"RegionName\", \"LocalGovernmentArea\",\"StatDivision\",\"lat\",\"lon\")\n",
    "head(tramdata, n=5)"
   ]
  },
  {
   "cell_type": "code",
   "execution_count": 28,
   "metadata": {},
   "outputs": [
    {
     "data": {
      "text/html": [
       "<table>\n",
       "<thead><tr><th scope=col>StopNameShort</th><th scope=col>lat</th><th scope=col>lon</th></tr></thead>\n",
       "<tbody>\n",
       "\t<tr><td>Weemala Court     </td><td>-37.68960         </td><td>145.1051          </td></tr>\n",
       "\t<tr><td>Crana Grove       </td><td>-37.68674         </td><td>145.1056          </td></tr>\n",
       "\t<tr><td>Punkerri Circuit  </td><td>-37.68364         </td><td>145.1087          </td></tr>\n",
       "\t<tr><td>Plenty River Drive</td><td>-37.68259         </td><td>145.1113          </td></tr>\n",
       "\t<tr><td>Oldstead Rd       </td><td>-37.68534         </td><td>145.1173          </td></tr>\n",
       "</tbody>\n",
       "</table>\n"
      ],
      "text/latex": [
       "\\begin{tabular}{r|lll}\n",
       " StopNameShort & lat & lon\\\\\n",
       "\\hline\n",
       "\t Weemala Court      & -37.68960          & 145.1051          \\\\\n",
       "\t Crana Grove        & -37.68674          & 145.1056          \\\\\n",
       "\t Punkerri Circuit   & -37.68364          & 145.1087          \\\\\n",
       "\t Plenty River Drive & -37.68259          & 145.1113          \\\\\n",
       "\t Oldstead Rd        & -37.68534          & 145.1173          \\\\\n",
       "\\end{tabular}\n"
      ],
      "text/markdown": [
       "\n",
       "StopNameShort | lat | lon | \n",
       "|---|---|---|---|---|\n",
       "| Weemala Court      | -37.68960          | 145.1051           | \n",
       "| Crana Grove        | -37.68674          | 145.1056           | \n",
       "| Punkerri Circuit   | -37.68364          | 145.1087           | \n",
       "| Plenty River Drive | -37.68259          | 145.1113           | \n",
       "| Oldstead Rd        | -37.68534          | 145.1173           | \n",
       "\n",
       "\n"
      ],
      "text/plain": [
       "  StopNameShort      lat       lon     \n",
       "1 Weemala Court      -37.68960 145.1051\n",
       "2 Crana Grove        -37.68674 145.1056\n",
       "3 Punkerri Circuit   -37.68364 145.1087\n",
       "4 Plenty River Drive -37.68259 145.1113\n",
       "5 Oldstead Rd        -37.68534 145.1173"
      ]
     },
     "metadata": {},
     "output_type": "display_data"
    }
   ],
   "source": [
    "keeps <- c(\"StopNameShort\", \"lat\", \"lon\")\n",
    "tramdata = tramdata[keeps]\n",
    "head(tramdata, n=5)"
   ]
  },
  {
   "cell_type": "code",
   "execution_count": 29,
   "metadata": {},
   "outputs": [
    {
     "data": {
      "text/html": [
       "<table>\n",
       "<thead><tr><th scope=col>t_lat</th><th scope=col>t_lon</th></tr></thead>\n",
       "<tbody>\n",
       "\t<tr><td>-37.68960</td><td>145.1051 </td></tr>\n",
       "\t<tr><td>-37.68674</td><td>145.1056 </td></tr>\n",
       "\t<tr><td>-37.68364</td><td>145.1087 </td></tr>\n",
       "\t<tr><td>-37.68259</td><td>145.1113 </td></tr>\n",
       "\t<tr><td>-37.68534</td><td>145.1173 </td></tr>\n",
       "</tbody>\n",
       "</table>\n"
      ],
      "text/latex": [
       "\\begin{tabular}{r|ll}\n",
       " t\\_lat & t\\_lon\\\\\n",
       "\\hline\n",
       "\t -37.68960 & 145.1051 \\\\\n",
       "\t -37.68674 & 145.1056 \\\\\n",
       "\t -37.68364 & 145.1087 \\\\\n",
       "\t -37.68259 & 145.1113 \\\\\n",
       "\t -37.68534 & 145.1173 \\\\\n",
       "\\end{tabular}\n"
      ],
      "text/markdown": [
       "\n",
       "t_lat | t_lon | \n",
       "|---|---|---|---|---|\n",
       "| -37.68960 | 145.1051  | \n",
       "| -37.68674 | 145.1056  | \n",
       "| -37.68364 | 145.1087  | \n",
       "| -37.68259 | 145.1113  | \n",
       "| -37.68534 | 145.1173  | \n",
       "\n",
       "\n"
      ],
      "text/plain": [
       "  t_lat     t_lon   \n",
       "1 -37.68960 145.1051\n",
       "2 -37.68674 145.1056\n",
       "3 -37.68364 145.1087\n",
       "4 -37.68259 145.1113\n",
       "5 -37.68534 145.1173"
      ]
     },
     "metadata": {},
     "output_type": "display_data"
    }
   ],
   "source": [
    "keeps <- c(\"lat\", \"lon\")\n",
    "tramdata_pos = tramdata[keeps]\n",
    "colnames(tramdata_pos)[1] <- \"t_lat\"\n",
    "colnames(tramdata_pos)[2] <- \"t_lon\"\n",
    "head(tramdata_pos, n=5)"
   ]
  },
  {
   "cell_type": "code",
   "execution_count": 30,
   "metadata": {},
   "outputs": [],
   "source": [
    "# Install required packages"
   ]
  },
  {
   "cell_type": "code",
   "execution_count": 31,
   "metadata": {},
   "outputs": [],
   "source": [
    "#install.packages(\"sp\")"
   ]
  },
  {
   "cell_type": "code",
   "execution_count": 32,
   "metadata": {},
   "outputs": [],
   "source": [
    "#install.packages(\"sf\")"
   ]
  },
  {
   "cell_type": "code",
   "execution_count": 33,
   "metadata": {},
   "outputs": [],
   "source": [
    "#install.packages(\"geosphere\")"
   ]
  },
  {
   "cell_type": "code",
   "execution_count": 34,
   "metadata": {},
   "outputs": [
    {
     "name": "stderr",
     "output_type": "stream",
     "text": [
      "-- Attaching packages --------------------------------------- tidyverse 1.2.1 --\n",
      "v ggplot2 2.2.1     v purrr   0.2.4\n",
      "v tibble  1.4.1     v dplyr   0.7.4\n",
      "v readr   1.1.1     v stringr 1.2.0\n",
      "v ggplot2 2.2.1     v forcats 0.2.0\n",
      "-- Conflicts ------------------------------------------ tidyverse_conflicts() --\n",
      "x dplyr::arrange()   masks plyr::arrange()\n",
      "x purrr::compact()   masks plyr::compact()\n",
      "x dplyr::count()     masks plyr::count()\n",
      "x dplyr::failwith()  masks plyr::failwith()\n",
      "x dplyr::filter()    masks stats::filter()\n",
      "x dplyr::id()        masks plyr::id()\n",
      "x dplyr::lag()       masks stats::lag()\n",
      "x dplyr::mutate()    masks plyr::mutate()\n",
      "x dplyr::rename()    masks plyr::rename()\n",
      "x dplyr::summarise() masks plyr::summarise()\n",
      "x dplyr::summarize() masks plyr::summarize()\n",
      "Linking to GEOS 3.6.1, GDAL 2.2.0, proj.4 4.9.3\n"
     ]
    }
   ],
   "source": [
    "library(tidyverse)\n",
    "library(sp)\n",
    "library(sf)\n",
    "library(geosphere)\n"
   ]
  },
  {
   "cell_type": "code",
   "execution_count": 35,
   "metadata": {},
   "outputs": [],
   "source": [
    "# Create ID for my_df_1 and my_df_2 based on row id\n",
    "# This step is not required, just help me to better distinguish each point\n",
    "tramdata_pos <- tramdata_pos %>% mutate(ID1 = row.names(.))\n",
    "crime_processed <- crime_processed %>% mutate(ID2 = row.names(.))"
   ]
  },
  {
   "cell_type": "code",
   "execution_count": 36,
   "metadata": {},
   "outputs": [],
   "source": [
    "# Create spatial point data frame\n",
    "my_df_1_sp <- tramdata_pos\n",
    "coordinates(my_df_1_sp) <- ~t_lon + t_lat\n",
    "\n",
    "my_df_2_sp <- crime_processed\n",
    "coordinates(my_df_2_sp) <- ~c_lon + c_lat"
   ]
  },
  {
   "cell_type": "code",
   "execution_count": 37,
   "metadata": {},
   "outputs": [],
   "source": [
    "# Convert to simple feature\n",
    "my_df_1_sf <- st_as_sf(my_df_1_sp)\n",
    "my_df_2_sf <- st_as_sf(my_df_2_sp)"
   ]
  },
  {
   "cell_type": "code",
   "execution_count": 38,
   "metadata": {},
   "outputs": [],
   "source": [
    "# Set projection based on the epsg code\n",
    "st_crs(my_df_1_sf) <- 4326\n",
    "st_crs(my_df_2_sf) <- 4326"
   ]
  },
  {
   "cell_type": "code",
   "execution_count": 39,
   "metadata": {},
   "outputs": [],
   "source": [
    "# Calculate the distance\n",
    "m_dist <- st_distance(my_df_1_sf, my_df_2_sf)\n",
    "\n",
    "# Filter for the nearest\n",
    "near_index <- apply(m_dist, 1, order)[1, ]\n",
    "\n",
    "# Based on the index in near_index to select the rows in my_df_2\n",
    "# Combine with my_df_1\n",
    "my_df_final <- cbind(tramdata_pos, crime_processed[near_index, ])"
   ]
  },
  {
   "cell_type": "code",
   "execution_count": 40,
   "metadata": {},
   "outputs": [
    {
     "data": {
      "text/html": [
       "<table>\n",
       "<thead><tr><th></th><th scope=col>t_lat</th><th scope=col>t_lon</th><th scope=col>ID1</th><th scope=col>c_lat</th><th scope=col>c_lon</th><th scope=col>Severity.Total.Score</th><th scope=col>ID2</th></tr></thead>\n",
       "<tbody>\n",
       "\t<tr><th scope=row>188</th><td>-37.68960</td><td>145.1051 </td><td>1        </td><td>-37.70462</td><td>145.1030 </td><td> 535     </td><td>188      </td></tr>\n",
       "\t<tr><th scope=row>188.1</th><td>-37.68674</td><td>145.1056 </td><td>2        </td><td>-37.70462</td><td>145.1030 </td><td> 535     </td><td>188      </td></tr>\n",
       "\t<tr><th scope=row>191</th><td>-37.68364</td><td>145.1087 </td><td>3        </td><td>-37.67157</td><td>145.1240 </td><td>  98     </td><td>191      </td></tr>\n",
       "\t<tr><th scope=row>191.1</th><td>-37.68259</td><td>145.1113 </td><td>4        </td><td>-37.67157</td><td>145.1240 </td><td>  98     </td><td>191      </td></tr>\n",
       "\t<tr><th scope=row>189</th><td>-37.68534</td><td>145.1173 </td><td>5        </td><td>-37.69058</td><td>145.1308 </td><td> 535     </td><td>189      </td></tr>\n",
       "\t<tr><th scope=row>191.2</th><td>-37.68275</td><td>145.1196 </td><td>6        </td><td>-37.67157</td><td>145.1240 </td><td>  98     </td><td>191      </td></tr>\n",
       "\t<tr><th scope=row>182</th><td>-37.73643</td><td>145.0445 </td><td>7        </td><td>-37.73635</td><td>145.0385 </td><td> 185     </td><td>182      </td></tr>\n",
       "\t<tr><th scope=row>174</th><td>-37.72242</td><td>145.0481 </td><td>8        </td><td>-37.72133</td><td>145.0470 </td><td> 985     </td><td>174      </td></tr>\n",
       "\t<tr><th scope=row>171</th><td>-37.74164</td><td>145.0434 </td><td>9        </td><td>-37.74227</td><td>145.0489 </td><td>1093     </td><td>171      </td></tr>\n",
       "\t<tr><th scope=row>171.1</th><td>-37.74213</td><td>145.0482 </td><td>10       </td><td>-37.74227</td><td>145.0489 </td><td>1093     </td><td>171      </td></tr>\n",
       "\t<tr><th scope=row>179</th><td>-37.74646</td><td>145.0586 </td><td>11       </td><td>-37.74289</td><td>145.0650 </td><td> 834     </td><td>179      </td></tr>\n",
       "\t<tr><th scope=row>179.1</th><td>-37.74454</td><td>145.0620 </td><td>12       </td><td>-37.74289</td><td>145.0650 </td><td> 834     </td><td>179      </td></tr>\n",
       "\t<tr><th scope=row>179.2</th><td>-37.74372</td><td>145.0634 </td><td>13       </td><td>-37.74289</td><td>145.0650 </td><td> 834     </td><td>179      </td></tr>\n",
       "\t<tr><th scope=row>179.3</th><td>-37.74318</td><td>145.0666 </td><td>14       </td><td>-37.74289</td><td>145.0650 </td><td> 834     </td><td>179      </td></tr>\n",
       "\t<tr><th scope=row>179.4</th><td>-37.74484</td><td>145.0675 </td><td>15       </td><td>-37.74289</td><td>145.0650 </td><td> 834     </td><td>179      </td></tr>\n",
       "\t<tr><th scope=row>179.5</th><td>-37.74509</td><td>145.0701 </td><td>16       </td><td>-37.74289</td><td>145.0650 </td><td> 834     </td><td>179      </td></tr>\n",
       "\t<tr><th scope=row>179.6</th><td>-37.74291</td><td>145.0733 </td><td>17       </td><td>-37.74289</td><td>145.0650 </td><td> 834     </td><td>179      </td></tr>\n",
       "\t<tr><th scope=row>179.7</th><td>-37.74321</td><td>145.0760 </td><td>18       </td><td>-37.74289</td><td>145.0650 </td><td> 834     </td><td>179      </td></tr>\n",
       "\t<tr><th scope=row>177</th><td>-37.74211</td><td>145.0785 </td><td>19       </td><td>-37.74422</td><td>145.0879 </td><td> 834     </td><td>177      </td></tr>\n",
       "\t<tr><th scope=row>177.1</th><td>-37.74328</td><td>145.0836 </td><td>20       </td><td>-37.74422</td><td>145.0879 </td><td> 834     </td><td>177      </td></tr>\n",
       "\t<tr><th scope=row>177.2</th><td>-37.74424</td><td>145.0886 </td><td>21       </td><td>-37.74422</td><td>145.0879 </td><td> 834     </td><td>177      </td></tr>\n",
       "\t<tr><th scope=row>177.3</th><td>-37.74226</td><td>145.0901 </td><td>22       </td><td>-37.74422</td><td>145.0879 </td><td> 834     </td><td>177      </td></tr>\n",
       "\t<tr><th scope=row>177.4</th><td>-37.74020</td><td>145.0899 </td><td>23       </td><td>-37.74422</td><td>145.0879 </td><td> 834     </td><td>177      </td></tr>\n",
       "\t<tr><th scope=row>180</th><td>-37.73958</td><td>145.0908 </td><td>24       </td><td>-37.73926</td><td>145.0964 </td><td> 834     </td><td>180      </td></tr>\n",
       "\t<tr><th scope=row>180.1</th><td>-37.73802</td><td>145.0910 </td><td>25       </td><td>-37.73926</td><td>145.0964 </td><td> 834     </td><td>180      </td></tr>\n",
       "\t<tr><th scope=row>180.2</th><td>-37.73671</td><td>145.0907 </td><td>26       </td><td>-37.73926</td><td>145.0964 </td><td> 834     </td><td>180      </td></tr>\n",
       "\t<tr><th scope=row>193</th><td>-37.73307</td><td>145.0911 </td><td>27       </td><td>-37.73076</td><td>145.0881 </td><td>  52     </td><td>193      </td></tr>\n",
       "\t<tr><th scope=row>193.1</th><td>-37.73242</td><td>145.0872 </td><td>28       </td><td>-37.73076</td><td>145.0881 </td><td>  52     </td><td>193      </td></tr>\n",
       "\t<tr><th scope=row>193.2</th><td>-37.72961</td><td>145.0922 </td><td>29       </td><td>-37.73076</td><td>145.0881 </td><td>  52     </td><td>193      </td></tr>\n",
       "\t<tr><th scope=row>184</th><td>-37.72882</td><td>145.0962 </td><td>30       </td><td>-37.72748</td><td>145.1023 </td><td> 185     </td><td>184      </td></tr>\n",
       "\t<tr><th scope=row>...</th><td>...</td><td>...</td><td>...</td><td>...</td><td>...</td><td>...</td><td>...</td></tr>\n",
       "\t<tr><th scope=row>76.11</th><td>-37.69527</td><td>144.7701 </td><td>27585    </td><td>-37.70004</td><td>144.7646 </td><td> 841     </td><td>76       </td></tr>\n",
       "\t<tr><th scope=row>236.7</th><td>-37.84023</td><td>145.0458 </td><td>27586    </td><td>-37.84210</td><td>145.0460 </td><td> 758     </td><td>236      </td></tr>\n",
       "\t<tr><th scope=row>1204.224</th><td>-37.57909</td><td>144.7273 </td><td>27587    </td><td>-37.57686</td><td>144.7314 </td><td>1379     </td><td>1204     </td></tr>\n",
       "\t<tr><th scope=row>1201.15</th><td>-37.62701</td><td>144.7199 </td><td>27588    </td><td>-37.62775</td><td>144.7200 </td><td>  74     </td><td>1201     </td></tr>\n",
       "\t<tr><th scope=row>315.29</th><td>-37.88577</td><td>145.0851 </td><td>27589    </td><td>-37.88637</td><td>145.0825 </td><td> 529     </td><td>315      </td></tr>\n",
       "\t<tr><th scope=row>315.30</th><td>-37.88542</td><td>145.0850 </td><td>27590    </td><td>-37.88637</td><td>145.0825 </td><td> 529     </td><td>315      </td></tr>\n",
       "\t<tr><th scope=row>88.32</th><td>-37.74358</td><td>144.9077 </td><td>27591    </td><td>-37.74437</td><td>144.9099 </td><td> 364     </td><td>88       </td></tr>\n",
       "\t<tr><th scope=row>43.19</th><td>-37.76206</td><td>144.7684 </td><td>27592    </td><td>-37.77104</td><td>144.7722 </td><td>1827     </td><td>43       </td></tr>\n",
       "\t<tr><th scope=row>434.38</th><td>-38.14412</td><td>145.1262 </td><td>27593    </td><td>-38.14500</td><td>145.1225 </td><td>5409     </td><td>434      </td></tr>\n",
       "\t<tr><th scope=row>1204.225</th><td>-37.57862</td><td>144.7287 </td><td>27594    </td><td>-37.57686</td><td>144.7314 </td><td>1379     </td><td>1204     </td></tr>\n",
       "\t<tr><th scope=row>360.79</th><td>-37.91403</td><td>145.1320 </td><td>27595    </td><td>-37.92549</td><td>145.1197 </td><td>1055     </td><td>360      </td></tr>\n",
       "\t<tr><th scope=row>2794.2</th><td>-38.22189</td><td>145.5086 </td><td>27596    </td><td>-38.19937</td><td>145.4908 </td><td>  93     </td><td>2794     </td></tr>\n",
       "\t<tr><th scope=row>2303.126</th><td>-38.07716</td><td>145.4933 </td><td>27597    </td><td>-38.07735</td><td>145.4934 </td><td>1505     </td><td>2303     </td></tr>\n",
       "\t<tr><th scope=row>2303.127</th><td>-38.07370</td><td>145.4941 </td><td>27598    </td><td>-38.07735</td><td>145.4934 </td><td>1505     </td><td>2303     </td></tr>\n",
       "\t<tr><th scope=row>2303.128</th><td>-38.07151</td><td>145.4937 </td><td>27599    </td><td>-38.07735</td><td>145.4934 </td><td>1505     </td><td>2303     </td></tr>\n",
       "\t<tr><th scope=row>2303.129</th><td>-38.07152</td><td>145.4918 </td><td>27600    </td><td>-38.07735</td><td>145.4934 </td><td>1505     </td><td>2303     </td></tr>\n",
       "\t<tr><th scope=row>2303.130</th><td>-38.07215</td><td>145.4871 </td><td>27601    </td><td>-38.07735</td><td>145.4934 </td><td>1505     </td><td>2303     </td></tr>\n",
       "\t<tr><th scope=row>2303.131</th><td>-38.07169</td><td>145.4807 </td><td>27602    </td><td>-38.07735</td><td>145.4934 </td><td>1505     </td><td>2303     </td></tr>\n",
       "\t<tr><th scope=row>2303.132</th><td>-38.07143</td><td>145.4769 </td><td>27603    </td><td>-38.07735</td><td>145.4934 </td><td>1505     </td><td>2303     </td></tr>\n",
       "\t<tr><th scope=row>2303.133</th><td>-38.07055</td><td>145.4738 </td><td>27604    </td><td>-38.07735</td><td>145.4934 </td><td>1505     </td><td>2303     </td></tr>\n",
       "\t<tr><th scope=row>2303.134</th><td>-38.06494</td><td>145.4648 </td><td>27605    </td><td>-38.07735</td><td>145.4934 </td><td>1505     </td><td>2303     </td></tr>\n",
       "\t<tr><th scope=row>2303.135</th><td>-38.06369</td><td>145.4619 </td><td>27606    </td><td>-38.07735</td><td>145.4934 </td><td>1505     </td><td>2303     </td></tr>\n",
       "\t<tr><th scope=row>2303.136</th><td>-38.06236</td><td>145.4567 </td><td>27607    </td><td>-38.07735</td><td>145.4934 </td><td>1505     </td><td>2303     </td></tr>\n",
       "\t<tr><th scope=row>2300.49</th><td>-38.06088</td><td>145.4504 </td><td>27608    </td><td>-38.06306</td><td>145.4096 </td><td> 274     </td><td>2300     </td></tr>\n",
       "\t<tr><th scope=row>2300.50</th><td>-38.06322</td><td>145.4366 </td><td>27609    </td><td>-38.06306</td><td>145.4096 </td><td> 274     </td><td>2300     </td></tr>\n",
       "\t<tr><th scope=row>2300.51</th><td>-38.06269</td><td>145.4190 </td><td>27610    </td><td>-38.06306</td><td>145.4096 </td><td> 274     </td><td>2300     </td></tr>\n",
       "\t<tr><th scope=row>2300.52</th><td>-38.06133</td><td>145.4153 </td><td>27611    </td><td>-38.06306</td><td>145.4096 </td><td> 274     </td><td>2300     </td></tr>\n",
       "\t<tr><th scope=row>2300.53</th><td>-38.06020</td><td>145.4092 </td><td>27612    </td><td>-38.06306</td><td>145.4096 </td><td> 274     </td><td>2300     </td></tr>\n",
       "\t<tr><th scope=row>2300.54</th><td>-38.05954</td><td>145.4057 </td><td>27613    </td><td>-38.06306</td><td>145.4096 </td><td> 274     </td><td>2300     </td></tr>\n",
       "\t<tr><th scope=row>2300.55</th><td>-38.05672</td><td>145.3903 </td><td>27614    </td><td>-38.06306</td><td>145.4096 </td><td> 274     </td><td>2300     </td></tr>\n",
       "</tbody>\n",
       "</table>\n"
      ],
      "text/latex": [
       "\\begin{tabular}{r|lllllll}\n",
       "  & t\\_lat & t\\_lon & ID1 & c\\_lat & c\\_lon & Severity.Total.Score & ID2\\\\\n",
       "\\hline\n",
       "\t188 & -37.68960 & 145.1051  & 1         & -37.70462 & 145.1030  &  535      & 188      \\\\\n",
       "\t188.1 & -37.68674 & 145.1056  & 2         & -37.70462 & 145.1030  &  535      & 188      \\\\\n",
       "\t191 & -37.68364 & 145.1087  & 3         & -37.67157 & 145.1240  &   98      & 191      \\\\\n",
       "\t191.1 & -37.68259 & 145.1113  & 4         & -37.67157 & 145.1240  &   98      & 191      \\\\\n",
       "\t189 & -37.68534 & 145.1173  & 5         & -37.69058 & 145.1308  &  535      & 189      \\\\\n",
       "\t191.2 & -37.68275 & 145.1196  & 6         & -37.67157 & 145.1240  &   98      & 191      \\\\\n",
       "\t182 & -37.73643 & 145.0445  & 7         & -37.73635 & 145.0385  &  185      & 182      \\\\\n",
       "\t174 & -37.72242 & 145.0481  & 8         & -37.72133 & 145.0470  &  985      & 174      \\\\\n",
       "\t171 & -37.74164 & 145.0434  & 9         & -37.74227 & 145.0489  & 1093      & 171      \\\\\n",
       "\t171.1 & -37.74213 & 145.0482  & 10        & -37.74227 & 145.0489  & 1093      & 171      \\\\\n",
       "\t179 & -37.74646 & 145.0586  & 11        & -37.74289 & 145.0650  &  834      & 179      \\\\\n",
       "\t179.1 & -37.74454 & 145.0620  & 12        & -37.74289 & 145.0650  &  834      & 179      \\\\\n",
       "\t179.2 & -37.74372 & 145.0634  & 13        & -37.74289 & 145.0650  &  834      & 179      \\\\\n",
       "\t179.3 & -37.74318 & 145.0666  & 14        & -37.74289 & 145.0650  &  834      & 179      \\\\\n",
       "\t179.4 & -37.74484 & 145.0675  & 15        & -37.74289 & 145.0650  &  834      & 179      \\\\\n",
       "\t179.5 & -37.74509 & 145.0701  & 16        & -37.74289 & 145.0650  &  834      & 179      \\\\\n",
       "\t179.6 & -37.74291 & 145.0733  & 17        & -37.74289 & 145.0650  &  834      & 179      \\\\\n",
       "\t179.7 & -37.74321 & 145.0760  & 18        & -37.74289 & 145.0650  &  834      & 179      \\\\\n",
       "\t177 & -37.74211 & 145.0785  & 19        & -37.74422 & 145.0879  &  834      & 177      \\\\\n",
       "\t177.1 & -37.74328 & 145.0836  & 20        & -37.74422 & 145.0879  &  834      & 177      \\\\\n",
       "\t177.2 & -37.74424 & 145.0886  & 21        & -37.74422 & 145.0879  &  834      & 177      \\\\\n",
       "\t177.3 & -37.74226 & 145.0901  & 22        & -37.74422 & 145.0879  &  834      & 177      \\\\\n",
       "\t177.4 & -37.74020 & 145.0899  & 23        & -37.74422 & 145.0879  &  834      & 177      \\\\\n",
       "\t180 & -37.73958 & 145.0908  & 24        & -37.73926 & 145.0964  &  834      & 180      \\\\\n",
       "\t180.1 & -37.73802 & 145.0910  & 25        & -37.73926 & 145.0964  &  834      & 180      \\\\\n",
       "\t180.2 & -37.73671 & 145.0907  & 26        & -37.73926 & 145.0964  &  834      & 180      \\\\\n",
       "\t193 & -37.73307 & 145.0911  & 27        & -37.73076 & 145.0881  &   52      & 193      \\\\\n",
       "\t193.1 & -37.73242 & 145.0872  & 28        & -37.73076 & 145.0881  &   52      & 193      \\\\\n",
       "\t193.2 & -37.72961 & 145.0922  & 29        & -37.73076 & 145.0881  &   52      & 193      \\\\\n",
       "\t184 & -37.72882 & 145.0962  & 30        & -37.72748 & 145.1023  &  185      & 184      \\\\\n",
       "\t... & ... & ... & ... & ... & ... & ... & ...\\\\\n",
       "\t76.11 & -37.69527 & 144.7701  & 27585     & -37.70004 & 144.7646  &  841      & 76       \\\\\n",
       "\t236.7 & -37.84023 & 145.0458  & 27586     & -37.84210 & 145.0460  &  758      & 236      \\\\\n",
       "\t1204.224 & -37.57909 & 144.7273  & 27587     & -37.57686 & 144.7314  & 1379      & 1204     \\\\\n",
       "\t1201.15 & -37.62701 & 144.7199  & 27588     & -37.62775 & 144.7200  &   74      & 1201     \\\\\n",
       "\t315.29 & -37.88577 & 145.0851  & 27589     & -37.88637 & 145.0825  &  529      & 315      \\\\\n",
       "\t315.30 & -37.88542 & 145.0850  & 27590     & -37.88637 & 145.0825  &  529      & 315      \\\\\n",
       "\t88.32 & -37.74358 & 144.9077  & 27591     & -37.74437 & 144.9099  &  364      & 88       \\\\\n",
       "\t43.19 & -37.76206 & 144.7684  & 27592     & -37.77104 & 144.7722  & 1827      & 43       \\\\\n",
       "\t434.38 & -38.14412 & 145.1262  & 27593     & -38.14500 & 145.1225  & 5409      & 434      \\\\\n",
       "\t1204.225 & -37.57862 & 144.7287  & 27594     & -37.57686 & 144.7314  & 1379      & 1204     \\\\\n",
       "\t360.79 & -37.91403 & 145.1320  & 27595     & -37.92549 & 145.1197  & 1055      & 360      \\\\\n",
       "\t2794.2 & -38.22189 & 145.5086  & 27596     & -38.19937 & 145.4908  &   93      & 2794     \\\\\n",
       "\t2303.126 & -38.07716 & 145.4933  & 27597     & -38.07735 & 145.4934  & 1505      & 2303     \\\\\n",
       "\t2303.127 & -38.07370 & 145.4941  & 27598     & -38.07735 & 145.4934  & 1505      & 2303     \\\\\n",
       "\t2303.128 & -38.07151 & 145.4937  & 27599     & -38.07735 & 145.4934  & 1505      & 2303     \\\\\n",
       "\t2303.129 & -38.07152 & 145.4918  & 27600     & -38.07735 & 145.4934  & 1505      & 2303     \\\\\n",
       "\t2303.130 & -38.07215 & 145.4871  & 27601     & -38.07735 & 145.4934  & 1505      & 2303     \\\\\n",
       "\t2303.131 & -38.07169 & 145.4807  & 27602     & -38.07735 & 145.4934  & 1505      & 2303     \\\\\n",
       "\t2303.132 & -38.07143 & 145.4769  & 27603     & -38.07735 & 145.4934  & 1505      & 2303     \\\\\n",
       "\t2303.133 & -38.07055 & 145.4738  & 27604     & -38.07735 & 145.4934  & 1505      & 2303     \\\\\n",
       "\t2303.134 & -38.06494 & 145.4648  & 27605     & -38.07735 & 145.4934  & 1505      & 2303     \\\\\n",
       "\t2303.135 & -38.06369 & 145.4619  & 27606     & -38.07735 & 145.4934  & 1505      & 2303     \\\\\n",
       "\t2303.136 & -38.06236 & 145.4567  & 27607     & -38.07735 & 145.4934  & 1505      & 2303     \\\\\n",
       "\t2300.49 & -38.06088 & 145.4504  & 27608     & -38.06306 & 145.4096  &  274      & 2300     \\\\\n",
       "\t2300.50 & -38.06322 & 145.4366  & 27609     & -38.06306 & 145.4096  &  274      & 2300     \\\\\n",
       "\t2300.51 & -38.06269 & 145.4190  & 27610     & -38.06306 & 145.4096  &  274      & 2300     \\\\\n",
       "\t2300.52 & -38.06133 & 145.4153  & 27611     & -38.06306 & 145.4096  &  274      & 2300     \\\\\n",
       "\t2300.53 & -38.06020 & 145.4092  & 27612     & -38.06306 & 145.4096  &  274      & 2300     \\\\\n",
       "\t2300.54 & -38.05954 & 145.4057  & 27613     & -38.06306 & 145.4096  &  274      & 2300     \\\\\n",
       "\t2300.55 & -38.05672 & 145.3903  & 27614     & -38.06306 & 145.4096  &  274      & 2300     \\\\\n",
       "\\end{tabular}\n"
      ],
      "text/markdown": [
       "\n",
       "| <!--/--> | t_lat | t_lon | ID1 | c_lat | c_lon | Severity.Total.Score | ID2 | \n",
       "|---|---|---|---|---|---|---|---|---|---|---|---|---|---|---|---|---|---|---|---|---|---|---|---|---|---|---|---|---|---|---|---|---|---|---|---|---|---|---|---|---|---|---|---|---|---|---|---|---|---|---|---|---|---|---|---|---|---|---|---|---|\n",
       "| 188 | -37.68960 | 145.1051  | 1         | -37.70462 | 145.1030  |  535      | 188       | \n",
       "| 188.1 | -37.68674 | 145.1056  | 2         | -37.70462 | 145.1030  |  535      | 188       | \n",
       "| 191 | -37.68364 | 145.1087  | 3         | -37.67157 | 145.1240  |   98      | 191       | \n",
       "| 191.1 | -37.68259 | 145.1113  | 4         | -37.67157 | 145.1240  |   98      | 191       | \n",
       "| 189 | -37.68534 | 145.1173  | 5         | -37.69058 | 145.1308  |  535      | 189       | \n",
       "| 191.2 | -37.68275 | 145.1196  | 6         | -37.67157 | 145.1240  |   98      | 191       | \n",
       "| 182 | -37.73643 | 145.0445  | 7         | -37.73635 | 145.0385  |  185      | 182       | \n",
       "| 174 | -37.72242 | 145.0481  | 8         | -37.72133 | 145.0470  |  985      | 174       | \n",
       "| 171 | -37.74164 | 145.0434  | 9         | -37.74227 | 145.0489  | 1093      | 171       | \n",
       "| 171.1 | -37.74213 | 145.0482  | 10        | -37.74227 | 145.0489  | 1093      | 171       | \n",
       "| 179 | -37.74646 | 145.0586  | 11        | -37.74289 | 145.0650  |  834      | 179       | \n",
       "| 179.1 | -37.74454 | 145.0620  | 12        | -37.74289 | 145.0650  |  834      | 179       | \n",
       "| 179.2 | -37.74372 | 145.0634  | 13        | -37.74289 | 145.0650  |  834      | 179       | \n",
       "| 179.3 | -37.74318 | 145.0666  | 14        | -37.74289 | 145.0650  |  834      | 179       | \n",
       "| 179.4 | -37.74484 | 145.0675  | 15        | -37.74289 | 145.0650  |  834      | 179       | \n",
       "| 179.5 | -37.74509 | 145.0701  | 16        | -37.74289 | 145.0650  |  834      | 179       | \n",
       "| 179.6 | -37.74291 | 145.0733  | 17        | -37.74289 | 145.0650  |  834      | 179       | \n",
       "| 179.7 | -37.74321 | 145.0760  | 18        | -37.74289 | 145.0650  |  834      | 179       | \n",
       "| 177 | -37.74211 | 145.0785  | 19        | -37.74422 | 145.0879  |  834      | 177       | \n",
       "| 177.1 | -37.74328 | 145.0836  | 20        | -37.74422 | 145.0879  |  834      | 177       | \n",
       "| 177.2 | -37.74424 | 145.0886  | 21        | -37.74422 | 145.0879  |  834      | 177       | \n",
       "| 177.3 | -37.74226 | 145.0901  | 22        | -37.74422 | 145.0879  |  834      | 177       | \n",
       "| 177.4 | -37.74020 | 145.0899  | 23        | -37.74422 | 145.0879  |  834      | 177       | \n",
       "| 180 | -37.73958 | 145.0908  | 24        | -37.73926 | 145.0964  |  834      | 180       | \n",
       "| 180.1 | -37.73802 | 145.0910  | 25        | -37.73926 | 145.0964  |  834      | 180       | \n",
       "| 180.2 | -37.73671 | 145.0907  | 26        | -37.73926 | 145.0964  |  834      | 180       | \n",
       "| 193 | -37.73307 | 145.0911  | 27        | -37.73076 | 145.0881  |   52      | 193       | \n",
       "| 193.1 | -37.73242 | 145.0872  | 28        | -37.73076 | 145.0881  |   52      | 193       | \n",
       "| 193.2 | -37.72961 | 145.0922  | 29        | -37.73076 | 145.0881  |   52      | 193       | \n",
       "| 184 | -37.72882 | 145.0962  | 30        | -37.72748 | 145.1023  |  185      | 184       | \n",
       "| ... | ... | ... | ... | ... | ... | ... | ... | \n",
       "| 76.11 | -37.69527 | 144.7701  | 27585     | -37.70004 | 144.7646  |  841      | 76        | \n",
       "| 236.7 | -37.84023 | 145.0458  | 27586     | -37.84210 | 145.0460  |  758      | 236       | \n",
       "| 1204.224 | -37.57909 | 144.7273  | 27587     | -37.57686 | 144.7314  | 1379      | 1204      | \n",
       "| 1201.15 | -37.62701 | 144.7199  | 27588     | -37.62775 | 144.7200  |   74      | 1201      | \n",
       "| 315.29 | -37.88577 | 145.0851  | 27589     | -37.88637 | 145.0825  |  529      | 315       | \n",
       "| 315.30 | -37.88542 | 145.0850  | 27590     | -37.88637 | 145.0825  |  529      | 315       | \n",
       "| 88.32 | -37.74358 | 144.9077  | 27591     | -37.74437 | 144.9099  |  364      | 88        | \n",
       "| 43.19 | -37.76206 | 144.7684  | 27592     | -37.77104 | 144.7722  | 1827      | 43        | \n",
       "| 434.38 | -38.14412 | 145.1262  | 27593     | -38.14500 | 145.1225  | 5409      | 434       | \n",
       "| 1204.225 | -37.57862 | 144.7287  | 27594     | -37.57686 | 144.7314  | 1379      | 1204      | \n",
       "| 360.79 | -37.91403 | 145.1320  | 27595     | -37.92549 | 145.1197  | 1055      | 360       | \n",
       "| 2794.2 | -38.22189 | 145.5086  | 27596     | -38.19937 | 145.4908  |   93      | 2794      | \n",
       "| 2303.126 | -38.07716 | 145.4933  | 27597     | -38.07735 | 145.4934  | 1505      | 2303      | \n",
       "| 2303.127 | -38.07370 | 145.4941  | 27598     | -38.07735 | 145.4934  | 1505      | 2303      | \n",
       "| 2303.128 | -38.07151 | 145.4937  | 27599     | -38.07735 | 145.4934  | 1505      | 2303      | \n",
       "| 2303.129 | -38.07152 | 145.4918  | 27600     | -38.07735 | 145.4934  | 1505      | 2303      | \n",
       "| 2303.130 | -38.07215 | 145.4871  | 27601     | -38.07735 | 145.4934  | 1505      | 2303      | \n",
       "| 2303.131 | -38.07169 | 145.4807  | 27602     | -38.07735 | 145.4934  | 1505      | 2303      | \n",
       "| 2303.132 | -38.07143 | 145.4769  | 27603     | -38.07735 | 145.4934  | 1505      | 2303      | \n",
       "| 2303.133 | -38.07055 | 145.4738  | 27604     | -38.07735 | 145.4934  | 1505      | 2303      | \n",
       "| 2303.134 | -38.06494 | 145.4648  | 27605     | -38.07735 | 145.4934  | 1505      | 2303      | \n",
       "| 2303.135 | -38.06369 | 145.4619  | 27606     | -38.07735 | 145.4934  | 1505      | 2303      | \n",
       "| 2303.136 | -38.06236 | 145.4567  | 27607     | -38.07735 | 145.4934  | 1505      | 2303      | \n",
       "| 2300.49 | -38.06088 | 145.4504  | 27608     | -38.06306 | 145.4096  |  274      | 2300      | \n",
       "| 2300.50 | -38.06322 | 145.4366  | 27609     | -38.06306 | 145.4096  |  274      | 2300      | \n",
       "| 2300.51 | -38.06269 | 145.4190  | 27610     | -38.06306 | 145.4096  |  274      | 2300      | \n",
       "| 2300.52 | -38.06133 | 145.4153  | 27611     | -38.06306 | 145.4096  |  274      | 2300      | \n",
       "| 2300.53 | -38.06020 | 145.4092  | 27612     | -38.06306 | 145.4096  |  274      | 2300      | \n",
       "| 2300.54 | -38.05954 | 145.4057  | 27613     | -38.06306 | 145.4096  |  274      | 2300      | \n",
       "| 2300.55 | -38.05672 | 145.3903  | 27614     | -38.06306 | 145.4096  |  274      | 2300      | \n",
       "\n",
       "\n"
      ],
      "text/plain": [
       "         t_lat     t_lon    ID1   c_lat     c_lon    Severity.Total.Score ID2 \n",
       "188      -37.68960 145.1051 1     -37.70462 145.1030  535                 188 \n",
       "188.1    -37.68674 145.1056 2     -37.70462 145.1030  535                 188 \n",
       "191      -37.68364 145.1087 3     -37.67157 145.1240   98                 191 \n",
       "191.1    -37.68259 145.1113 4     -37.67157 145.1240   98                 191 \n",
       "189      -37.68534 145.1173 5     -37.69058 145.1308  535                 189 \n",
       "191.2    -37.68275 145.1196 6     -37.67157 145.1240   98                 191 \n",
       "182      -37.73643 145.0445 7     -37.73635 145.0385  185                 182 \n",
       "174      -37.72242 145.0481 8     -37.72133 145.0470  985                 174 \n",
       "171      -37.74164 145.0434 9     -37.74227 145.0489 1093                 171 \n",
       "171.1    -37.74213 145.0482 10    -37.74227 145.0489 1093                 171 \n",
       "179      -37.74646 145.0586 11    -37.74289 145.0650  834                 179 \n",
       "179.1    -37.74454 145.0620 12    -37.74289 145.0650  834                 179 \n",
       "179.2    -37.74372 145.0634 13    -37.74289 145.0650  834                 179 \n",
       "179.3    -37.74318 145.0666 14    -37.74289 145.0650  834                 179 \n",
       "179.4    -37.74484 145.0675 15    -37.74289 145.0650  834                 179 \n",
       "179.5    -37.74509 145.0701 16    -37.74289 145.0650  834                 179 \n",
       "179.6    -37.74291 145.0733 17    -37.74289 145.0650  834                 179 \n",
       "179.7    -37.74321 145.0760 18    -37.74289 145.0650  834                 179 \n",
       "177      -37.74211 145.0785 19    -37.74422 145.0879  834                 177 \n",
       "177.1    -37.74328 145.0836 20    -37.74422 145.0879  834                 177 \n",
       "177.2    -37.74424 145.0886 21    -37.74422 145.0879  834                 177 \n",
       "177.3    -37.74226 145.0901 22    -37.74422 145.0879  834                 177 \n",
       "177.4    -37.74020 145.0899 23    -37.74422 145.0879  834                 177 \n",
       "180      -37.73958 145.0908 24    -37.73926 145.0964  834                 180 \n",
       "180.1    -37.73802 145.0910 25    -37.73926 145.0964  834                 180 \n",
       "180.2    -37.73671 145.0907 26    -37.73926 145.0964  834                 180 \n",
       "193      -37.73307 145.0911 27    -37.73076 145.0881   52                 193 \n",
       "193.1    -37.73242 145.0872 28    -37.73076 145.0881   52                 193 \n",
       "193.2    -37.72961 145.0922 29    -37.73076 145.0881   52                 193 \n",
       "184      -37.72882 145.0962 30    -37.72748 145.1023  185                 184 \n",
       "...      ...       ...      ...   ...       ...      ...                  ... \n",
       "76.11    -37.69527 144.7701 27585 -37.70004 144.7646  841                 76  \n",
       "236.7    -37.84023 145.0458 27586 -37.84210 145.0460  758                 236 \n",
       "1204.224 -37.57909 144.7273 27587 -37.57686 144.7314 1379                 1204\n",
       "1201.15  -37.62701 144.7199 27588 -37.62775 144.7200   74                 1201\n",
       "315.29   -37.88577 145.0851 27589 -37.88637 145.0825  529                 315 \n",
       "315.30   -37.88542 145.0850 27590 -37.88637 145.0825  529                 315 \n",
       "88.32    -37.74358 144.9077 27591 -37.74437 144.9099  364                 88  \n",
       "43.19    -37.76206 144.7684 27592 -37.77104 144.7722 1827                 43  \n",
       "434.38   -38.14412 145.1262 27593 -38.14500 145.1225 5409                 434 \n",
       "1204.225 -37.57862 144.7287 27594 -37.57686 144.7314 1379                 1204\n",
       "360.79   -37.91403 145.1320 27595 -37.92549 145.1197 1055                 360 \n",
       "2794.2   -38.22189 145.5086 27596 -38.19937 145.4908   93                 2794\n",
       "2303.126 -38.07716 145.4933 27597 -38.07735 145.4934 1505                 2303\n",
       "2303.127 -38.07370 145.4941 27598 -38.07735 145.4934 1505                 2303\n",
       "2303.128 -38.07151 145.4937 27599 -38.07735 145.4934 1505                 2303\n",
       "2303.129 -38.07152 145.4918 27600 -38.07735 145.4934 1505                 2303\n",
       "2303.130 -38.07215 145.4871 27601 -38.07735 145.4934 1505                 2303\n",
       "2303.131 -38.07169 145.4807 27602 -38.07735 145.4934 1505                 2303\n",
       "2303.132 -38.07143 145.4769 27603 -38.07735 145.4934 1505                 2303\n",
       "2303.133 -38.07055 145.4738 27604 -38.07735 145.4934 1505                 2303\n",
       "2303.134 -38.06494 145.4648 27605 -38.07735 145.4934 1505                 2303\n",
       "2303.135 -38.06369 145.4619 27606 -38.07735 145.4934 1505                 2303\n",
       "2303.136 -38.06236 145.4567 27607 -38.07735 145.4934 1505                 2303\n",
       "2300.49  -38.06088 145.4504 27608 -38.06306 145.4096  274                 2300\n",
       "2300.50  -38.06322 145.4366 27609 -38.06306 145.4096  274                 2300\n",
       "2300.51  -38.06269 145.4190 27610 -38.06306 145.4096  274                 2300\n",
       "2300.52  -38.06133 145.4153 27611 -38.06306 145.4096  274                 2300\n",
       "2300.53  -38.06020 145.4092 27612 -38.06306 145.4096  274                 2300\n",
       "2300.54  -38.05954 145.4057 27613 -38.06306 145.4096  274                 2300\n",
       "2300.55  -38.05672 145.3903 27614 -38.06306 145.4096  274                 2300"
      ]
     },
     "metadata": {},
     "output_type": "display_data"
    }
   ],
   "source": [
    "my_df_final"
   ]
  },
  {
   "cell_type": "code",
   "execution_count": 41,
   "metadata": {},
   "outputs": [
    {
     "data": {
      "text/html": [
       "<table>\n",
       "<thead><tr><th></th><th scope=col>Latitude</th><th scope=col>Longitude</th><th scope=col>Severity.Total.Score</th></tr></thead>\n",
       "<tbody>\n",
       "\t<tr><th scope=row>188</th><td>-37.68960</td><td>145.1051 </td><td>535      </td></tr>\n",
       "\t<tr><th scope=row>188.1</th><td>-37.68674</td><td>145.1056 </td><td>535      </td></tr>\n",
       "\t<tr><th scope=row>191</th><td>-37.68364</td><td>145.1087 </td><td> 98      </td></tr>\n",
       "\t<tr><th scope=row>191.1</th><td>-37.68259</td><td>145.1113 </td><td> 98      </td></tr>\n",
       "\t<tr><th scope=row>189</th><td>-37.68534</td><td>145.1173 </td><td>535      </td></tr>\n",
       "</tbody>\n",
       "</table>\n"
      ],
      "text/latex": [
       "\\begin{tabular}{r|lll}\n",
       "  & Latitude & Longitude & Severity.Total.Score\\\\\n",
       "\\hline\n",
       "\t188 & -37.68960 & 145.1051  & 535      \\\\\n",
       "\t188.1 & -37.68674 & 145.1056  & 535      \\\\\n",
       "\t191 & -37.68364 & 145.1087  &  98      \\\\\n",
       "\t191.1 & -37.68259 & 145.1113  &  98      \\\\\n",
       "\t189 & -37.68534 & 145.1173  & 535      \\\\\n",
       "\\end{tabular}\n"
      ],
      "text/markdown": [
       "\n",
       "| <!--/--> | Latitude | Longitude | Severity.Total.Score | \n",
       "|---|---|---|---|---|\n",
       "| 188 | -37.68960 | 145.1051  | 535       | \n",
       "| 188.1 | -37.68674 | 145.1056  | 535       | \n",
       "| 191 | -37.68364 | 145.1087  |  98       | \n",
       "| 191.1 | -37.68259 | 145.1113  |  98       | \n",
       "| 189 | -37.68534 | 145.1173  | 535       | \n",
       "\n",
       "\n"
      ],
      "text/plain": [
       "      Latitude  Longitude Severity.Total.Score\n",
       "188   -37.68960 145.1051  535                 \n",
       "188.1 -37.68674 145.1056  535                 \n",
       "191   -37.68364 145.1087   98                 \n",
       "191.1 -37.68259 145.1113   98                 \n",
       "189   -37.68534 145.1173  535                 "
      ]
     },
     "metadata": {},
     "output_type": "display_data"
    }
   ],
   "source": [
    "keeps <- c(\"t_lat\", \"t_lon\", \"Severity.Total.Score\")\n",
    "tramdata_final = my_df_final[keeps]\n",
    "colnames(tramdata_final)[1] <- \"Latitude\"\n",
    "colnames(tramdata_final)[2] <- \"Longitude\"\n",
    "head(tramdata_final, n=5)"
   ]
  },
  {
   "cell_type": "code",
   "execution_count": 46,
   "metadata": {},
   "outputs": [],
   "source": [
    "write.csv(tramdata_final, file = \"crime_tram_model.csv\", row.names=FALSE)"
   ]
  },
  {
   "cell_type": "code",
   "execution_count": null,
   "metadata": {},
   "outputs": [],
   "source": []
  }
 ],
 "metadata": {
  "kernelspec": {
   "display_name": "R",
   "language": "R",
   "name": "ir"
  },
  "language_info": {
   "codemirror_mode": "r",
   "file_extension": ".r",
   "mimetype": "text/x-r-source",
   "name": "R",
   "pygments_lexer": "r",
   "version": "3.4.3"
  }
 },
 "nbformat": 4,
 "nbformat_minor": 2
}
